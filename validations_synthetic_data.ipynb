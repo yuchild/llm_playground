{
 "cells": [
  {
   "cell_type": "markdown",
   "id": "fdff9f3b",
   "metadata": {},
   "source": [
    "### Build a Data Model"
   ]
  },
  {
   "cell_type": "code",
   "execution_count": 2,
   "id": "f50aac41",
   "metadata": {},
   "outputs": [],
   "source": [
    "from pydantic.v1 import BaseModel\n",
    "\n",
    "class SalesTransaction(BaseModel):\n",
    "    transaction_id: int\n",
    "    customer_id: int\n",
    "    customer_name: str\n",
    "    product_id: int\n",
    "    product_name: str\n",
    "    product_category: str \n",
    "    quantity: int \n",
    "    unit_price: float \n",
    "    toatl_price: float \n",
    "    transaction_date: str\n"
   ]
  },
  {
   "cell_type": "markdown",
   "id": "684e99b7",
   "metadata": {},
   "source": [
    "### Build sample data fro synthetic generation in Python"
   ]
  },
  {
   "cell_type": "code",
   "execution_count": 9,
   "id": "23c5ad61",
   "metadata": {},
   "outputs": [],
   "source": [
    "sample_data = [\n",
    "    {\n",
    "        \"example\":\n",
    "        '''Transaction ID: 1001, Customer ID: 501, Customer Name: Alice J, Product ID: 201, Product Name: Hello Coding, Product Category: eLearning, Quantity: 2, Unit Price: $149,Total Price = $298, Transaction Date: 2030-01-02'''\n",
    "    },\n",
    "    {\n",
    "        \"example\":\n",
    "        '''Transaction ID: 1002, Customer ID: 502, Customer Name: Bob T, Product ID: 202, Product Name: Learn to Code, Product Category: eLearning, Quantity: 2, Unit Price: $149,Total Price = $298, Transaction Date: 2030-01-02'''\n",
    "    },\n",
    "    {\n",
    "        \"example\":\n",
    "        '''Transaction ID: 1003, Customer ID: 503, Customer Name: S.T. J, Product ID: 202, Product Name: Learn to Code, Product Category: eLearning, Quantity: 2, Unit Price: $149, Total Price = $298, Transaction Date: 2030-01-02'''\n",
    "    }\n",
    "]"
   ]
  },
  {
   "cell_type": "code",
   "execution_count": null,
   "id": "78b9ef21",
   "metadata": {},
   "outputs": [
    {
     "name": "stdout",
     "output_type": "stream",
     "text": [
      "[{'example': 'Transaction ID: 1001, Customer ID: 501, Customer Name: Alice J, Product ID: 201, Product Name: Hello Coding, Product Category: eLearning, Quantity: 2, Unit Price: $149,Total Price = $298, Transaction Date: 2030-01-02'}, {'example': 'Transaction ID: 1002, Customer ID: 502, Customer Name: Bob T, Product ID: 202, Product Name: Learn to Code, Product Category: eLearning, Quantity: 2, Unit Price: $149,Total Price = $298, Transaction Date: 2030-01-02'}, {'example': 'Transaction ID: 1003, Customer ID: 503, Customer Name: S.T. J, Product ID: 202, Product Name: Learn to Code, Product Category: eLearning, Quantity: 2, Unit Price: $149, Total Price = $298, Transaction Date: 2030-01-02'}]\n"
     ]
    }
   ],
   "source": [
    "print(sample_data)"
   ]
  },
  {
   "cell_type": "markdown",
   "id": "cf287b91",
   "metadata": {},
   "source": [
    "### Build a prompt template for data generation LLM"
   ]
  },
  {
   "cell_type": "code",
   "execution_count": 13,
   "id": "dc1a2886",
   "metadata": {},
   "outputs": [
    {
     "name": "stdout",
     "output_type": "stream",
     "text": [
      "input_variables=['sample_data'] input_types={} partial_variables={} template='{sample_data}'\n"
     ]
    }
   ],
   "source": [
    "from langchain_core.prompts import PromptTemplate \n",
    "\n",
    "OPENAI_TEMPLATE = PromptTemplate(imput_variables=[\"Sample_data\"],\n",
    "                                 template=\"{sample_data}\"\n",
    "                                 )\n",
    "\n",
    "print(OPENAI_TEMPLATE)\n"
   ]
  },
  {
   "cell_type": "code",
   "execution_count": 14,
   "id": "64338577",
   "metadata": {},
   "outputs": [
    {
     "name": "stdout",
     "output_type": "stream",
     "text": [
      "Collecting langchain_experimental\n",
      "  Downloading langchain_experimental-0.3.4-py3-none-any.whl.metadata (1.7 kB)\n",
      "Requirement already satisfied: langchain-community<0.4.0,>=0.3.0 in ./pyenv/lib/python3.12/site-packages (from langchain_experimental) (0.3.23)\n",
      "Requirement already satisfied: langchain-core<0.4.0,>=0.3.28 in ./pyenv/lib/python3.12/site-packages (from langchain_experimental) (0.3.58)\n",
      "Requirement already satisfied: langchain<1.0.0,>=0.3.24 in ./pyenv/lib/python3.12/site-packages (from langchain-community<0.4.0,>=0.3.0->langchain_experimental) (0.3.25)\n",
      "Requirement already satisfied: SQLAlchemy<3,>=1.4 in ./pyenv/lib/python3.12/site-packages (from langchain-community<0.4.0,>=0.3.0->langchain_experimental) (2.0.40)\n",
      "Requirement already satisfied: requests<3,>=2 in ./pyenv/lib/python3.12/site-packages (from langchain-community<0.4.0,>=0.3.0->langchain_experimental) (2.32.3)\n",
      "Requirement already satisfied: PyYAML>=5.3 in ./pyenv/lib/python3.12/site-packages (from langchain-community<0.4.0,>=0.3.0->langchain_experimental) (6.0.2)\n",
      "Requirement already satisfied: aiohttp<4.0.0,>=3.8.3 in ./pyenv/lib/python3.12/site-packages (from langchain-community<0.4.0,>=0.3.0->langchain_experimental) (3.11.18)\n",
      "Requirement already satisfied: tenacity!=8.4.0,<10,>=8.1.0 in ./pyenv/lib/python3.12/site-packages (from langchain-community<0.4.0,>=0.3.0->langchain_experimental) (9.0.0)\n",
      "Requirement already satisfied: dataclasses-json<0.7,>=0.5.7 in ./pyenv/lib/python3.12/site-packages (from langchain-community<0.4.0,>=0.3.0->langchain_experimental) (0.6.7)\n",
      "Requirement already satisfied: pydantic-settings<3.0.0,>=2.4.0 in ./pyenv/lib/python3.12/site-packages (from langchain-community<0.4.0,>=0.3.0->langchain_experimental) (2.9.1)\n",
      "Requirement already satisfied: langsmith<0.4,>=0.1.125 in ./pyenv/lib/python3.12/site-packages (from langchain-community<0.4.0,>=0.3.0->langchain_experimental) (0.3.42)\n",
      "Requirement already satisfied: httpx-sse<1.0.0,>=0.4.0 in ./pyenv/lib/python3.12/site-packages (from langchain-community<0.4.0,>=0.3.0->langchain_experimental) (0.4.0)\n",
      "Requirement already satisfied: numpy>=1.26.2 in ./pyenv/lib/python3.12/site-packages (from langchain-community<0.4.0,>=0.3.0->langchain_experimental) (2.2.1)\n",
      "Requirement already satisfied: jsonpatch<2.0,>=1.33 in ./pyenv/lib/python3.12/site-packages (from langchain-core<0.4.0,>=0.3.28->langchain_experimental) (1.33)\n",
      "Requirement already satisfied: packaging<25,>=23.2 in ./pyenv/lib/python3.12/site-packages (from langchain-core<0.4.0,>=0.3.28->langchain_experimental) (24.2)\n",
      "Requirement already satisfied: typing-extensions>=4.7 in ./pyenv/lib/python3.12/site-packages (from langchain-core<0.4.0,>=0.3.28->langchain_experimental) (4.12.2)\n",
      "Requirement already satisfied: pydantic<3.0.0,>=2.5.2 in ./pyenv/lib/python3.12/site-packages (from langchain-core<0.4.0,>=0.3.28->langchain_experimental) (2.11.4)\n",
      "Requirement already satisfied: aiohappyeyeballs>=2.3.0 in ./pyenv/lib/python3.12/site-packages (from aiohttp<4.0.0,>=3.8.3->langchain-community<0.4.0,>=0.3.0->langchain_experimental) (2.6.1)\n",
      "Requirement already satisfied: aiosignal>=1.1.2 in ./pyenv/lib/python3.12/site-packages (from aiohttp<4.0.0,>=3.8.3->langchain-community<0.4.0,>=0.3.0->langchain_experimental) (1.3.2)\n",
      "Requirement already satisfied: attrs>=17.3.0 in ./pyenv/lib/python3.12/site-packages (from aiohttp<4.0.0,>=3.8.3->langchain-community<0.4.0,>=0.3.0->langchain_experimental) (24.3.0)\n",
      "Requirement already satisfied: frozenlist>=1.1.1 in ./pyenv/lib/python3.12/site-packages (from aiohttp<4.0.0,>=3.8.3->langchain-community<0.4.0,>=0.3.0->langchain_experimental) (1.6.0)\n",
      "Requirement already satisfied: multidict<7.0,>=4.5 in ./pyenv/lib/python3.12/site-packages (from aiohttp<4.0.0,>=3.8.3->langchain-community<0.4.0,>=0.3.0->langchain_experimental) (6.4.3)\n",
      "Requirement already satisfied: propcache>=0.2.0 in ./pyenv/lib/python3.12/site-packages (from aiohttp<4.0.0,>=3.8.3->langchain-community<0.4.0,>=0.3.0->langchain_experimental) (0.3.1)\n",
      "Requirement already satisfied: yarl<2.0,>=1.17.0 in ./pyenv/lib/python3.12/site-packages (from aiohttp<4.0.0,>=3.8.3->langchain-community<0.4.0,>=0.3.0->langchain_experimental) (1.20.0)\n",
      "Requirement already satisfied: marshmallow<4.0.0,>=3.18.0 in ./pyenv/lib/python3.12/site-packages (from dataclasses-json<0.7,>=0.5.7->langchain-community<0.4.0,>=0.3.0->langchain_experimental) (3.26.1)\n",
      "Requirement already satisfied: typing-inspect<1,>=0.4.0 in ./pyenv/lib/python3.12/site-packages (from dataclasses-json<0.7,>=0.5.7->langchain-community<0.4.0,>=0.3.0->langchain_experimental) (0.9.0)\n",
      "Requirement already satisfied: jsonpointer>=1.9 in ./pyenv/lib/python3.12/site-packages (from jsonpatch<2.0,>=1.33->langchain-core<0.4.0,>=0.3.28->langchain_experimental) (3.0.0)\n",
      "Requirement already satisfied: langchain-text-splitters<1.0.0,>=0.3.8 in ./pyenv/lib/python3.12/site-packages (from langchain<1.0.0,>=0.3.24->langchain-community<0.4.0,>=0.3.0->langchain_experimental) (0.3.8)\n",
      "Requirement already satisfied: httpx<1,>=0.23.0 in ./pyenv/lib/python3.12/site-packages (from langsmith<0.4,>=0.1.125->langchain-community<0.4.0,>=0.3.0->langchain_experimental) (0.28.1)\n",
      "Requirement already satisfied: orjson<4.0.0,>=3.9.14 in ./pyenv/lib/python3.12/site-packages (from langsmith<0.4,>=0.1.125->langchain-community<0.4.0,>=0.3.0->langchain_experimental) (3.10.18)\n",
      "Requirement already satisfied: requests-toolbelt<2.0.0,>=1.0.0 in ./pyenv/lib/python3.12/site-packages (from langsmith<0.4,>=0.1.125->langchain-community<0.4.0,>=0.3.0->langchain_experimental) (1.0.0)\n",
      "Requirement already satisfied: zstandard<0.24.0,>=0.23.0 in ./pyenv/lib/python3.12/site-packages (from langsmith<0.4,>=0.1.125->langchain-community<0.4.0,>=0.3.0->langchain_experimental) (0.23.0)\n",
      "Requirement already satisfied: annotated-types>=0.6.0 in ./pyenv/lib/python3.12/site-packages (from pydantic<3.0.0,>=2.5.2->langchain-core<0.4.0,>=0.3.28->langchain_experimental) (0.7.0)\n",
      "Requirement already satisfied: pydantic-core==2.33.2 in ./pyenv/lib/python3.12/site-packages (from pydantic<3.0.0,>=2.5.2->langchain-core<0.4.0,>=0.3.28->langchain_experimental) (2.33.2)\n",
      "Requirement already satisfied: typing-inspection>=0.4.0 in ./pyenv/lib/python3.12/site-packages (from pydantic<3.0.0,>=2.5.2->langchain-core<0.4.0,>=0.3.28->langchain_experimental) (0.4.0)\n",
      "Requirement already satisfied: python-dotenv>=0.21.0 in ./pyenv/lib/python3.12/site-packages (from pydantic-settings<3.0.0,>=2.4.0->langchain-community<0.4.0,>=0.3.0->langchain_experimental) (1.1.0)\n",
      "Requirement already satisfied: charset-normalizer<4,>=2 in ./pyenv/lib/python3.12/site-packages (from requests<3,>=2->langchain-community<0.4.0,>=0.3.0->langchain_experimental) (3.4.1)\n",
      "Requirement already satisfied: idna<4,>=2.5 in ./pyenv/lib/python3.12/site-packages (from requests<3,>=2->langchain-community<0.4.0,>=0.3.0->langchain_experimental) (3.10)\n",
      "Requirement already satisfied: urllib3<3,>=1.21.1 in ./pyenv/lib/python3.12/site-packages (from requests<3,>=2->langchain-community<0.4.0,>=0.3.0->langchain_experimental) (2.3.0)\n",
      "Requirement already satisfied: certifi>=2017.4.17 in ./pyenv/lib/python3.12/site-packages (from requests<3,>=2->langchain-community<0.4.0,>=0.3.0->langchain_experimental) (2024.12.14)\n",
      "Requirement already satisfied: greenlet>=1 in ./pyenv/lib/python3.12/site-packages (from SQLAlchemy<3,>=1.4->langchain-community<0.4.0,>=0.3.0->langchain_experimental) (3.2.1)\n",
      "Requirement already satisfied: anyio in ./pyenv/lib/python3.12/site-packages (from httpx<1,>=0.23.0->langsmith<0.4,>=0.1.125->langchain-community<0.4.0,>=0.3.0->langchain_experimental) (4.9.0)\n",
      "Requirement already satisfied: httpcore==1.* in ./pyenv/lib/python3.12/site-packages (from httpx<1,>=0.23.0->langsmith<0.4,>=0.1.125->langchain-community<0.4.0,>=0.3.0->langchain_experimental) (1.0.9)\n",
      "Requirement already satisfied: h11>=0.16 in ./pyenv/lib/python3.12/site-packages (from httpcore==1.*->httpx<1,>=0.23.0->langsmith<0.4,>=0.1.125->langchain-community<0.4.0,>=0.3.0->langchain_experimental) (0.16.0)\n",
      "Requirement already satisfied: mypy-extensions>=0.3.0 in ./pyenv/lib/python3.12/site-packages (from typing-inspect<1,>=0.4.0->dataclasses-json<0.7,>=0.5.7->langchain-community<0.4.0,>=0.3.0->langchain_experimental) (1.1.0)\n",
      "Requirement already satisfied: sniffio>=1.1 in ./pyenv/lib/python3.12/site-packages (from anyio->httpx<1,>=0.23.0->langsmith<0.4,>=0.1.125->langchain-community<0.4.0,>=0.3.0->langchain_experimental) (1.3.1)\n",
      "Downloading langchain_experimental-0.3.4-py3-none-any.whl (209 kB)\n",
      "\u001b[2K   \u001b[38;2;114;156;31m━━━━━━━━━━━━━━━━━━━━━━━━━━━━━━━━━━━━━━━━\u001b[0m \u001b[32m209.2/209.2 kB\u001b[0m \u001b[31m2.5 MB/s\u001b[0m eta \u001b[36m0:00:00\u001b[0m[36m0:00:01\u001b[0m eta \u001b[36m0:00:01\u001b[0m\n",
      "\u001b[?25hInstalling collected packages: langchain_experimental\n",
      "Successfully installed langchain_experimental-0.3.4\n"
     ]
    }
   ],
   "source": [
    "!pip install langchain_experimental"
   ]
  },
  {
   "cell_type": "code",
   "execution_count": 17,
   "id": "34b24e02",
   "metadata": {},
   "outputs": [],
   "source": [
    "from langchain_experimental.tabular_synthetic_data.prompts import (\n",
    "    SYNTHETIC_FEW_SHOT_PREFIX,\n",
    "    SYNTHETIC_FEW_SHOT_SUFFIX,\n",
    ")\n",
    "\n",
    "from langchain_core.prompts.few_shot import FewShotPromptTemplate\n",
    "\n",
    "prompt_template = FewShotPromptTemplate(\n",
    "    prefix = SYNTHETIC_FEW_SHOT_PREFIX,\n",
    "    examples = sample_data,\n",
    "    suffix = SYNTHETIC_FEW_SHOT_SUFFIX,\n",
    "    input_variables=[\"subect\", \"extra\"],\n",
    "    example_prompt = OPENAI_TEMPLATE,\n",
    ")"
   ]
  },
  {
   "cell_type": "code",
   "execution_count": 19,
   "id": "ef9afcad",
   "metadata": {},
   "outputs": [
    {
     "name": "stdout",
     "output_type": "stream",
     "text": [
      "input_variables=['extra', 'subject'] input_types={} partial_variables={} examples=[{'example': 'Transaction ID: 1001, Customer ID: 501, Customer Name: Alice J, Product ID: 201, Product Name: Hello Coding, Product Category: eLearning, Quantity: 2, Unit Price: $149,Total Price = $298, Transaction Date: 2030-01-02'}, {'example': 'Transaction ID: 1002, Customer ID: 502, Customer Name: Bob T, Product ID: 202, Product Name: Learn to Code, Product Category: eLearning, Quantity: 2, Unit Price: $149,Total Price = $298, Transaction Date: 2030-01-02'}, {'example': 'Transaction ID: 1003, Customer ID: 503, Customer Name: S.T. J, Product ID: 202, Product Name: Learn to Code, Product Category: eLearning, Quantity: 2, Unit Price: $149, Total Price = $298, Transaction Date: 2030-01-02'}] example_prompt=PromptTemplate(input_variables=['sample_data'], input_types={}, partial_variables={}, template='{sample_data}') suffix='Now you generate synthetic data about {subject}. Make sure to {extra}:' prefix='This is a test about generating synthetic data about {subject}. Examples below:'\n"
     ]
    }
   ],
   "source": [
    "print(prompt_template)"
   ]
  },
  {
   "cell_type": "markdown",
   "id": "101384c5",
   "metadata": {},
   "source": [
    "### Build a data generator with LangChain OpenAI Python SDK"
   ]
  },
  {
   "cell_type": "code",
   "execution_count": 22,
   "id": "1d766418",
   "metadata": {},
   "outputs": [
    {
     "name": "stderr",
     "output_type": "stream",
     "text": [
      "/home/oem/Documents/github/llm_playground/pyenv/lib/python3.12/site-packages/pydantic/_internal/_generate_schema.py:913: UserWarning: Mixing V1 models and V2 models (or constructs, like `TypeAdapter`) is not supported. Please upgrade `SalesTransaction` to V2.\n",
      "  warn(\n"
     ]
    },
    {
     "ename": "PydanticInvalidForJsonSchema",
     "evalue": "Cannot generate a JsonSchema for core_schema.PlainValidatorFunctionSchema ({'type': 'with-info', 'function': <bound method BaseModel.validate of <class '__main__.SalesTransaction'>>})\n\nFor further information visit https://errors.pydantic.dev/2.11/u/invalid-for-json-schema",
     "output_type": "error",
     "traceback": [
      "\u001b[31m---------------------------------------------------------------------------\u001b[39m",
      "\u001b[31mPydanticInvalidForJsonSchema\u001b[39m              Traceback (most recent call last)",
      "\u001b[36mCell\u001b[39m\u001b[36m \u001b[39m\u001b[32mIn[22]\u001b[39m\u001b[32m, line 10\u001b[39m\n\u001b[32m      7\u001b[39m load_dotenv()\n\u001b[32m      9\u001b[39m openai_api_key = os.getenv(\u001b[33m\"\u001b[39m\u001b[33mOPENAI_API_KEY\u001b[39m\u001b[33m\"\u001b[39m)\n\u001b[32m---> \u001b[39m\u001b[32m10\u001b[39m generator = \u001b[43mcreate_openai_data_generator\u001b[49m\u001b[43m(\u001b[49m\n\u001b[32m     11\u001b[39m \u001b[43m    \u001b[49m\u001b[43moutput_schema\u001b[49m\u001b[43m=\u001b[49m\u001b[43mSalesTransaction\u001b[49m\u001b[43m,\u001b[49m\n\u001b[32m     12\u001b[39m \u001b[43m    \u001b[49m\u001b[43mllm\u001b[49m\u001b[43m \u001b[49m\u001b[43m=\u001b[49m\u001b[43m \u001b[49m\u001b[43mChatOpenAI\u001b[49m\u001b[43m(\u001b[49m\n\u001b[32m     13\u001b[39m \u001b[43m        \u001b[49m\u001b[43mopenai_api_key\u001b[49m\u001b[43m=\u001b[49m\u001b[43mopenai_api_key\u001b[49m\u001b[43m,\u001b[49m\u001b[43m  \u001b[49m\n\u001b[32m     14\u001b[39m \u001b[43m        \u001b[49m\u001b[43mmodel\u001b[49m\u001b[43m=\u001b[49m\u001b[33;43m\"\u001b[39;49m\u001b[33;43mgpt-4o-mini-2024-07-18\u001b[39;49m\u001b[33;43m\"\u001b[39;49m\n\u001b[32m     15\u001b[39m \u001b[43m    \u001b[49m\u001b[43m)\u001b[49m\u001b[43m,\u001b[49m\n\u001b[32m     16\u001b[39m \u001b[43m    \u001b[49m\u001b[43mprompt\u001b[49m\u001b[43m \u001b[49m\u001b[43m=\u001b[49m\u001b[43m \u001b[49m\u001b[43mprompt_template\u001b[49m\u001b[43m,\u001b[49m\n\u001b[32m     17\u001b[39m \u001b[43m)\u001b[49m\n\u001b[32m     18\u001b[39m \u001b[38;5;28mprint\u001b[39m(generator)\n",
      "\u001b[36mFile \u001b[39m\u001b[32m~/Documents/github/llm_playground/pyenv/lib/python3.12/site-packages/langchain_experimental/tabular_synthetic_data/openai.py:58\u001b[39m, in \u001b[36mcreate_openai_data_generator\u001b[39m\u001b[34m(output_schema, llm, prompt, output_parser, **kwargs)\u001b[39m\n\u001b[32m     21\u001b[39m \u001b[38;5;250m\u001b[39m\u001b[33;03m\"\"\"\u001b[39;00m\n\u001b[32m     22\u001b[39m \u001b[33;03mCreate an instance of SyntheticDataGenerator tailored for OpenAI models.\u001b[39;00m\n\u001b[32m     23\u001b[39m \n\u001b[32m   (...)\u001b[39m\u001b[32m     55\u001b[39m \u001b[33;03m    the desired synthetic data.\u001b[39;00m\n\u001b[32m     56\u001b[39m \u001b[33;03m\"\"\"\u001b[39;00m\n\u001b[32m     57\u001b[39m \u001b[38;5;66;03m# Create function calling chain to ensure structured output\u001b[39;00m\n\u001b[32m---> \u001b[39m\u001b[32m58\u001b[39m chain = \u001b[43mcreate_structured_output_chain\u001b[49m\u001b[43m(\u001b[49m\n\u001b[32m     59\u001b[39m \u001b[43m    \u001b[49m\u001b[43moutput_schema\u001b[49m\u001b[43m,\u001b[49m\u001b[43m \u001b[49m\u001b[43mllm\u001b[49m\u001b[43m,\u001b[49m\u001b[43m \u001b[49m\u001b[43mprompt\u001b[49m\u001b[43m,\u001b[49m\u001b[43m \u001b[49m\u001b[43moutput_parser\u001b[49m\u001b[43m=\u001b[49m\u001b[43moutput_parser\u001b[49m\u001b[43m,\u001b[49m\u001b[43m \u001b[49m\u001b[43m*\u001b[49m\u001b[43m*\u001b[49m\u001b[43mkwargs\u001b[49m\n\u001b[32m     60\u001b[39m \u001b[43m\u001b[49m\u001b[43m)\u001b[49m\n\u001b[32m     62\u001b[39m \u001b[38;5;66;03m# Create the SyntheticDataGenerator instance with the created chain\u001b[39;00m\n\u001b[32m     63\u001b[39m generator = SyntheticDataGenerator(template=prompt, llm_chain=chain)  \u001b[38;5;66;03m# type: ignore[arg-type]\u001b[39;00m\n",
      "\u001b[36mFile \u001b[39m\u001b[32m~/Documents/github/llm_playground/pyenv/lib/python3.12/site-packages/langchain_core/_api/deprecation.py:191\u001b[39m, in \u001b[36mdeprecated.<locals>.deprecate.<locals>.warning_emitting_wrapper\u001b[39m\u001b[34m(*args, **kwargs)\u001b[39m\n\u001b[32m    189\u001b[39m     warned = \u001b[38;5;28;01mTrue\u001b[39;00m\n\u001b[32m    190\u001b[39m     emit_warning()\n\u001b[32m--> \u001b[39m\u001b[32m191\u001b[39m \u001b[38;5;28;01mreturn\u001b[39;00m \u001b[43mwrapped\u001b[49m\u001b[43m(\u001b[49m\u001b[43m*\u001b[49m\u001b[43margs\u001b[49m\u001b[43m,\u001b[49m\u001b[43m \u001b[49m\u001b[43m*\u001b[49m\u001b[43m*\u001b[49m\u001b[43mkwargs\u001b[49m\u001b[43m)\u001b[49m\n",
      "\u001b[36mFile \u001b[39m\u001b[32m~/Documents/github/llm_playground/pyenv/lib/python3.12/site-packages/langchain/chains/openai_functions/base.py:225\u001b[39m, in \u001b[36mcreate_structured_output_chain\u001b[39m\u001b[34m(output_schema, llm, prompt, output_key, output_parser, **kwargs)\u001b[39m\n\u001b[32m    221\u001b[39m     function = _OutputFormatter\n\u001b[32m    222\u001b[39m     output_parser = output_parser \u001b[38;5;129;01mor\u001b[39;00m PydanticAttrOutputFunctionsParser(\n\u001b[32m    223\u001b[39m         pydantic_schema=_OutputFormatter, attr_name=\u001b[33m\"\u001b[39m\u001b[33moutput\u001b[39m\u001b[33m\"\u001b[39m\n\u001b[32m    224\u001b[39m     )\n\u001b[32m--> \u001b[39m\u001b[32m225\u001b[39m \u001b[38;5;28;01mreturn\u001b[39;00m \u001b[43mcreate_openai_fn_chain\u001b[49m\u001b[43m(\u001b[49m\n\u001b[32m    226\u001b[39m \u001b[43m    \u001b[49m\u001b[43m[\u001b[49m\u001b[43mfunction\u001b[49m\u001b[43m]\u001b[49m\u001b[43m,\u001b[49m\n\u001b[32m    227\u001b[39m \u001b[43m    \u001b[49m\u001b[43mllm\u001b[49m\u001b[43m,\u001b[49m\n\u001b[32m    228\u001b[39m \u001b[43m    \u001b[49m\u001b[43mprompt\u001b[49m\u001b[43m,\u001b[49m\n\u001b[32m    229\u001b[39m \u001b[43m    \u001b[49m\u001b[43moutput_key\u001b[49m\u001b[43m=\u001b[49m\u001b[43moutput_key\u001b[49m\u001b[43m,\u001b[49m\n\u001b[32m    230\u001b[39m \u001b[43m    \u001b[49m\u001b[43moutput_parser\u001b[49m\u001b[43m=\u001b[49m\u001b[43moutput_parser\u001b[49m\u001b[43m,\u001b[49m\n\u001b[32m    231\u001b[39m \u001b[43m    \u001b[49m\u001b[43m*\u001b[49m\u001b[43m*\u001b[49m\u001b[43mkwargs\u001b[49m\u001b[43m,\u001b[49m\n\u001b[32m    232\u001b[39m \u001b[43m\u001b[49m\u001b[43m)\u001b[49m\n",
      "\u001b[36mFile \u001b[39m\u001b[32m~/Documents/github/llm_playground/pyenv/lib/python3.12/site-packages/langchain_core/_api/deprecation.py:191\u001b[39m, in \u001b[36mdeprecated.<locals>.deprecate.<locals>.warning_emitting_wrapper\u001b[39m\u001b[34m(*args, **kwargs)\u001b[39m\n\u001b[32m    189\u001b[39m     warned = \u001b[38;5;28;01mTrue\u001b[39;00m\n\u001b[32m    190\u001b[39m     emit_warning()\n\u001b[32m--> \u001b[39m\u001b[32m191\u001b[39m \u001b[38;5;28;01mreturn\u001b[39;00m \u001b[43mwrapped\u001b[49m\u001b[43m(\u001b[49m\u001b[43m*\u001b[49m\u001b[43margs\u001b[49m\u001b[43m,\u001b[49m\u001b[43m \u001b[49m\u001b[43m*\u001b[49m\u001b[43m*\u001b[49m\u001b[43mkwargs\u001b[49m\u001b[43m)\u001b[49m\n",
      "\u001b[36mFile \u001b[39m\u001b[32m~/Documents/github/llm_playground/pyenv/lib/python3.12/site-packages/langchain/chains/openai_functions/base.py:127\u001b[39m, in \u001b[36mcreate_openai_fn_chain\u001b[39m\u001b[34m(functions, llm, prompt, enforce_single_function_usage, output_key, output_parser, **kwargs)\u001b[39m\n\u001b[32m    125\u001b[39m \u001b[38;5;28;01mif\u001b[39;00m \u001b[38;5;129;01mnot\u001b[39;00m functions:\n\u001b[32m    126\u001b[39m     \u001b[38;5;28;01mraise\u001b[39;00m \u001b[38;5;167;01mValueError\u001b[39;00m(\u001b[33m\"\u001b[39m\u001b[33mNeed to pass in at least one function. Received zero.\u001b[39m\u001b[33m\"\u001b[39m)\n\u001b[32m--> \u001b[39m\u001b[32m127\u001b[39m openai_functions = [\u001b[43mconvert_to_openai_function\u001b[49m\u001b[43m(\u001b[49m\u001b[43mf\u001b[49m\u001b[43m)\u001b[49m \u001b[38;5;28;01mfor\u001b[39;00m f \u001b[38;5;129;01min\u001b[39;00m functions]\n\u001b[32m    128\u001b[39m output_parser = output_parser \u001b[38;5;129;01mor\u001b[39;00m get_openai_output_parser(functions)\n\u001b[32m    129\u001b[39m llm_kwargs: \u001b[38;5;28mdict\u001b[39m[\u001b[38;5;28mstr\u001b[39m, Any] = {\n\u001b[32m    130\u001b[39m     \u001b[33m\"\u001b[39m\u001b[33mfunctions\u001b[39m\u001b[33m\"\u001b[39m: openai_functions,\n\u001b[32m    131\u001b[39m }\n",
      "\u001b[36mFile \u001b[39m\u001b[32m~/Documents/github/llm_playground/pyenv/lib/python3.12/site-packages/langchain_core/utils/function_calling.py:470\u001b[39m, in \u001b[36mconvert_to_openai_function\u001b[39m\u001b[34m(function, strict)\u001b[39m\n\u001b[32m    468\u001b[39m         oai_function[\u001b[33m\"\u001b[39m\u001b[33mparameters\u001b[39m\u001b[33m\"\u001b[39m] = function_copy\n\u001b[32m    469\u001b[39m \u001b[38;5;28;01melif\u001b[39;00m \u001b[38;5;28misinstance\u001b[39m(function, \u001b[38;5;28mtype\u001b[39m) \u001b[38;5;129;01mand\u001b[39;00m is_basemodel_subclass(function):\n\u001b[32m--> \u001b[39m\u001b[32m470\u001b[39m     oai_function = cast(\u001b[33m\"\u001b[39m\u001b[33mdict\u001b[39m\u001b[33m\"\u001b[39m, \u001b[43m_convert_pydantic_to_openai_function\u001b[49m\u001b[43m(\u001b[49m\u001b[43mfunction\u001b[49m\u001b[43m)\u001b[49m)\n\u001b[32m    471\u001b[39m \u001b[38;5;28;01melif\u001b[39;00m is_typeddict(function):\n\u001b[32m    472\u001b[39m     oai_function = cast(\n\u001b[32m    473\u001b[39m         \u001b[33m\"\u001b[39m\u001b[33mdict\u001b[39m\u001b[33m\"\u001b[39m, _convert_typed_dict_to_openai_function(cast(\u001b[33m\"\u001b[39m\u001b[33mtype\u001b[39m\u001b[33m\"\u001b[39m, function))\n\u001b[32m    474\u001b[39m     )\n",
      "\u001b[36mFile \u001b[39m\u001b[32m~/Documents/github/llm_playground/pyenv/lib/python3.12/site-packages/langchain_core/utils/function_calling.py:153\u001b[39m, in \u001b[36m_convert_pydantic_to_openai_function\u001b[39m\u001b[34m(model, name, description, rm_titles)\u001b[39m\n\u001b[32m    139\u001b[39m \u001b[38;5;250m\u001b[39m\u001b[33;03m\"\"\"Converts a Pydantic model to a function description for the OpenAI API.\u001b[39;00m\n\u001b[32m    140\u001b[39m \n\u001b[32m    141\u001b[39m \u001b[33;03mArgs:\u001b[39;00m\n\u001b[32m   (...)\u001b[39m\u001b[32m    150\u001b[39m \u001b[33;03m    The function description.\u001b[39;00m\n\u001b[32m    151\u001b[39m \u001b[33;03m\"\"\"\u001b[39;00m\n\u001b[32m    152\u001b[39m \u001b[38;5;28;01mif\u001b[39;00m \u001b[38;5;28mhasattr\u001b[39m(model, \u001b[33m\"\u001b[39m\u001b[33mmodel_json_schema\u001b[39m\u001b[33m\"\u001b[39m):\n\u001b[32m--> \u001b[39m\u001b[32m153\u001b[39m     schema = \u001b[43mmodel\u001b[49m\u001b[43m.\u001b[49m\u001b[43mmodel_json_schema\u001b[49m\u001b[43m(\u001b[49m\u001b[43m)\u001b[49m  \u001b[38;5;66;03m# Pydantic 2\u001b[39;00m\n\u001b[32m    154\u001b[39m \u001b[38;5;28;01melif\u001b[39;00m \u001b[38;5;28mhasattr\u001b[39m(model, \u001b[33m\"\u001b[39m\u001b[33mschema\u001b[39m\u001b[33m\"\u001b[39m):\n\u001b[32m    155\u001b[39m     schema = model.schema()  \u001b[38;5;66;03m# Pydantic 1\u001b[39;00m\n",
      "\u001b[36mFile \u001b[39m\u001b[32m~/Documents/github/llm_playground/pyenv/lib/python3.12/site-packages/pydantic/main.py:555\u001b[39m, in \u001b[36mBaseModel.model_json_schema\u001b[39m\u001b[34m(cls, by_alias, ref_template, schema_generator, mode)\u001b[39m\n\u001b[32m    535\u001b[39m \u001b[38;5;129m@classmethod\u001b[39m\n\u001b[32m    536\u001b[39m \u001b[38;5;28;01mdef\u001b[39;00m \u001b[34mmodel_json_schema\u001b[39m(\n\u001b[32m    537\u001b[39m     \u001b[38;5;28mcls\u001b[39m,\n\u001b[32m   (...)\u001b[39m\u001b[32m    541\u001b[39m     mode: JsonSchemaMode = \u001b[33m'\u001b[39m\u001b[33mvalidation\u001b[39m\u001b[33m'\u001b[39m,\n\u001b[32m    542\u001b[39m ) -> \u001b[38;5;28mdict\u001b[39m[\u001b[38;5;28mstr\u001b[39m, Any]:\n\u001b[32m    543\u001b[39m \u001b[38;5;250m    \u001b[39m\u001b[33;03m\"\"\"Generates a JSON schema for a model class.\u001b[39;00m\n\u001b[32m    544\u001b[39m \n\u001b[32m    545\u001b[39m \u001b[33;03m    Args:\u001b[39;00m\n\u001b[32m   (...)\u001b[39m\u001b[32m    553\u001b[39m \u001b[33;03m        The JSON schema for the given model class.\u001b[39;00m\n\u001b[32m    554\u001b[39m \u001b[33;03m    \"\"\"\u001b[39;00m\n\u001b[32m--> \u001b[39m\u001b[32m555\u001b[39m     \u001b[38;5;28;01mreturn\u001b[39;00m \u001b[43mmodel_json_schema\u001b[49m\u001b[43m(\u001b[49m\n\u001b[32m    556\u001b[39m \u001b[43m        \u001b[49m\u001b[38;5;28;43mcls\u001b[39;49m\u001b[43m,\u001b[49m\u001b[43m \u001b[49m\u001b[43mby_alias\u001b[49m\u001b[43m=\u001b[49m\u001b[43mby_alias\u001b[49m\u001b[43m,\u001b[49m\u001b[43m \u001b[49m\u001b[43mref_template\u001b[49m\u001b[43m=\u001b[49m\u001b[43mref_template\u001b[49m\u001b[43m,\u001b[49m\u001b[43m \u001b[49m\u001b[43mschema_generator\u001b[49m\u001b[43m=\u001b[49m\u001b[43mschema_generator\u001b[49m\u001b[43m,\u001b[49m\u001b[43m \u001b[49m\u001b[43mmode\u001b[49m\u001b[43m=\u001b[49m\u001b[43mmode\u001b[49m\n\u001b[32m    557\u001b[39m \u001b[43m    \u001b[49m\u001b[43m)\u001b[49m\n",
      "\u001b[36mFile \u001b[39m\u001b[32m~/Documents/github/llm_playground/pyenv/lib/python3.12/site-packages/pydantic/json_schema.py:2413\u001b[39m, in \u001b[36mmodel_json_schema\u001b[39m\u001b[34m(cls, by_alias, ref_template, schema_generator, mode)\u001b[39m\n\u001b[32m   2410\u001b[39m     \u001b[38;5;28;01mraise\u001b[39;00m \u001b[38;5;167;01mAttributeError\u001b[39;00m(\u001b[33m'\u001b[39m\u001b[33mmodel_json_schema() must be called on a subclass of BaseModel, not BaseModel itself.\u001b[39m\u001b[33m'\u001b[39m)\n\u001b[32m   2412\u001b[39m \u001b[38;5;28;01massert\u001b[39;00m \u001b[38;5;129;01mnot\u001b[39;00m \u001b[38;5;28misinstance\u001b[39m(\u001b[38;5;28mcls\u001b[39m.__pydantic_core_schema__, _mock_val_ser.MockCoreSchema), \u001b[33m'\u001b[39m\u001b[33mthis is a bug! please report it\u001b[39m\u001b[33m'\u001b[39m\n\u001b[32m-> \u001b[39m\u001b[32m2413\u001b[39m \u001b[38;5;28;01mreturn\u001b[39;00m \u001b[43mschema_generator_instance\u001b[49m\u001b[43m.\u001b[49m\u001b[43mgenerate\u001b[49m\u001b[43m(\u001b[49m\u001b[38;5;28;43mcls\u001b[39;49m\u001b[43m.\u001b[49m\u001b[43m__pydantic_core_schema__\u001b[49m\u001b[43m,\u001b[49m\u001b[43m \u001b[49m\u001b[43mmode\u001b[49m\u001b[43m=\u001b[49m\u001b[43mmode\u001b[49m\u001b[43m)\u001b[49m\n",
      "\u001b[36mFile \u001b[39m\u001b[32m~/Documents/github/llm_playground/pyenv/lib/python3.12/site-packages/pydantic/json_schema.py:399\u001b[39m, in \u001b[36mGenerateJsonSchema.generate\u001b[39m\u001b[34m(self, schema, mode)\u001b[39m\n\u001b[32m    392\u001b[39m \u001b[38;5;28;01mif\u001b[39;00m \u001b[38;5;28mself\u001b[39m._used:\n\u001b[32m    393\u001b[39m     \u001b[38;5;28;01mraise\u001b[39;00m PydanticUserError(\n\u001b[32m    394\u001b[39m         \u001b[33m'\u001b[39m\u001b[33mThis JSON schema generator has already been used to generate a JSON schema. \u001b[39m\u001b[33m'\u001b[39m\n\u001b[32m    395\u001b[39m         \u001b[33mf\u001b[39m\u001b[33m'\u001b[39m\u001b[33mYou must create a new instance of \u001b[39m\u001b[38;5;132;01m{\u001b[39;00m\u001b[38;5;28mtype\u001b[39m(\u001b[38;5;28mself\u001b[39m).\u001b[34m__name__\u001b[39m\u001b[38;5;132;01m}\u001b[39;00m\u001b[33m to generate a new JSON schema.\u001b[39m\u001b[33m'\u001b[39m,\n\u001b[32m    396\u001b[39m         code=\u001b[33m'\u001b[39m\u001b[33mjson-schema-already-used\u001b[39m\u001b[33m'\u001b[39m,\n\u001b[32m    397\u001b[39m     )\n\u001b[32m--> \u001b[39m\u001b[32m399\u001b[39m json_schema: JsonSchemaValue = \u001b[38;5;28;43mself\u001b[39;49m\u001b[43m.\u001b[49m\u001b[43mgenerate_inner\u001b[49m\u001b[43m(\u001b[49m\u001b[43mschema\u001b[49m\u001b[43m)\u001b[49m\n\u001b[32m    400\u001b[39m json_ref_counts = \u001b[38;5;28mself\u001b[39m.get_json_ref_counts(json_schema)\n\u001b[32m    402\u001b[39m ref = cast(JsonRef, json_schema.get(\u001b[33m'\u001b[39m\u001b[33m$ref\u001b[39m\u001b[33m'\u001b[39m))\n",
      "\u001b[36mFile \u001b[39m\u001b[32m~/Documents/github/llm_playground/pyenv/lib/python3.12/site-packages/pydantic/json_schema.py:563\u001b[39m, in \u001b[36mGenerateJsonSchema.generate_inner\u001b[39m\u001b[34m(self, schema)\u001b[39m\n\u001b[32m    559\u001b[39m         \u001b[38;5;28;01mreturn\u001b[39;00m js_modify_function(schema_or_field, current_handler)\n\u001b[32m    561\u001b[39m     current_handler = _schema_generation_shared.GenerateJsonSchemaHandler(\u001b[38;5;28mself\u001b[39m, new_handler_func)\n\u001b[32m--> \u001b[39m\u001b[32m563\u001b[39m json_schema = \u001b[43mcurrent_handler\u001b[49m\u001b[43m(\u001b[49m\u001b[43mschema\u001b[49m\u001b[43m)\u001b[49m\n\u001b[32m    564\u001b[39m \u001b[38;5;28;01mif\u001b[39;00m _core_utils.is_core_schema(schema):\n\u001b[32m    565\u001b[39m     json_schema = populate_defs(schema, json_schema)\n",
      "\u001b[36mFile \u001b[39m\u001b[32m~/Documents/github/llm_playground/pyenv/lib/python3.12/site-packages/pydantic/_internal/_schema_generation_shared.py:37\u001b[39m, in \u001b[36mGenerateJsonSchemaHandler.__call__\u001b[39m\u001b[34m(self, core_schema)\u001b[39m\n\u001b[32m     36\u001b[39m \u001b[38;5;28;01mdef\u001b[39;00m \u001b[34m__call__\u001b[39m(\u001b[38;5;28mself\u001b[39m, core_schema: CoreSchemaOrField, /) -> JsonSchemaValue:\n\u001b[32m---> \u001b[39m\u001b[32m37\u001b[39m     \u001b[38;5;28;01mreturn\u001b[39;00m \u001b[38;5;28;43mself\u001b[39;49m\u001b[43m.\u001b[49m\u001b[43mhandler\u001b[49m\u001b[43m(\u001b[49m\u001b[43mcore_schema\u001b[49m\u001b[43m)\u001b[49m\n",
      "\u001b[36mFile \u001b[39m\u001b[32m~/Documents/github/llm_playground/pyenv/lib/python3.12/site-packages/pydantic/json_schema.py:541\u001b[39m, in \u001b[36mGenerateJsonSchema.generate_inner.<locals>.new_handler_func\u001b[39m\u001b[34m(schema_or_field, current_handler, js_modify_function)\u001b[39m\n\u001b[32m    536\u001b[39m \u001b[38;5;28;01mdef\u001b[39;00m \u001b[34mnew_handler_func\u001b[39m(\n\u001b[32m    537\u001b[39m     schema_or_field: CoreSchemaOrField,\n\u001b[32m    538\u001b[39m     current_handler: GetJsonSchemaHandler = current_handler,\n\u001b[32m    539\u001b[39m     js_modify_function: GetJsonSchemaFunction = js_modify_function,\n\u001b[32m    540\u001b[39m ) -> JsonSchemaValue:\n\u001b[32m--> \u001b[39m\u001b[32m541\u001b[39m     json_schema = \u001b[43mjs_modify_function\u001b[49m\u001b[43m(\u001b[49m\u001b[43mschema_or_field\u001b[49m\u001b[43m,\u001b[49m\u001b[43m \u001b[49m\u001b[43mcurrent_handler\u001b[49m\u001b[43m)\u001b[49m\n\u001b[32m    542\u001b[39m     \u001b[38;5;28;01mif\u001b[39;00m _core_utils.is_core_schema(schema_or_field):\n\u001b[32m    543\u001b[39m         json_schema = populate_defs(schema_or_field, json_schema)\n",
      "\u001b[36mFile \u001b[39m\u001b[32m~/Documents/github/llm_playground/pyenv/lib/python3.12/site-packages/pydantic/main.py:827\u001b[39m, in \u001b[36mBaseModel.__get_pydantic_json_schema__\u001b[39m\u001b[34m(cls, core_schema, handler)\u001b[39m\n\u001b[32m    803\u001b[39m \u001b[38;5;129m@classmethod\u001b[39m\n\u001b[32m    804\u001b[39m \u001b[38;5;28;01mdef\u001b[39;00m \u001b[34m__get_pydantic_json_schema__\u001b[39m(\n\u001b[32m    805\u001b[39m     \u001b[38;5;28mcls\u001b[39m,\n\u001b[32m   (...)\u001b[39m\u001b[32m    808\u001b[39m     /,\n\u001b[32m    809\u001b[39m ) -> JsonSchemaValue:\n\u001b[32m    810\u001b[39m \u001b[38;5;250m    \u001b[39m\u001b[33;03m\"\"\"Hook into generating the model's JSON schema.\u001b[39;00m\n\u001b[32m    811\u001b[39m \n\u001b[32m    812\u001b[39m \u001b[33;03m    Args:\u001b[39;00m\n\u001b[32m   (...)\u001b[39m\u001b[32m    825\u001b[39m \u001b[33;03m        A JSON schema, as a Python object.\u001b[39;00m\n\u001b[32m    826\u001b[39m \u001b[33;03m    \"\"\"\u001b[39;00m\n\u001b[32m--> \u001b[39m\u001b[32m827\u001b[39m     \u001b[38;5;28;01mreturn\u001b[39;00m \u001b[43mhandler\u001b[49m\u001b[43m(\u001b[49m\u001b[43mcore_schema\u001b[49m\u001b[43m)\u001b[49m\n",
      "\u001b[36mFile \u001b[39m\u001b[32m~/Documents/github/llm_playground/pyenv/lib/python3.12/site-packages/pydantic/_internal/_schema_generation_shared.py:37\u001b[39m, in \u001b[36mGenerateJsonSchemaHandler.__call__\u001b[39m\u001b[34m(self, core_schema)\u001b[39m\n\u001b[32m     36\u001b[39m \u001b[38;5;28;01mdef\u001b[39;00m \u001b[34m__call__\u001b[39m(\u001b[38;5;28mself\u001b[39m, core_schema: CoreSchemaOrField, /) -> JsonSchemaValue:\n\u001b[32m---> \u001b[39m\u001b[32m37\u001b[39m     \u001b[38;5;28;01mreturn\u001b[39;00m \u001b[38;5;28;43mself\u001b[39;49m\u001b[43m.\u001b[49m\u001b[43mhandler\u001b[49m\u001b[43m(\u001b[49m\u001b[43mcore_schema\u001b[49m\u001b[43m)\u001b[49m\n",
      "\u001b[36mFile \u001b[39m\u001b[32m~/Documents/github/llm_playground/pyenv/lib/python3.12/site-packages/pydantic/json_schema.py:495\u001b[39m, in \u001b[36mGenerateJsonSchema.generate_inner.<locals>.handler_func\u001b[39m\u001b[34m(schema_or_field)\u001b[39m\n\u001b[32m    493\u001b[39m \u001b[38;5;28;01mif\u001b[39;00m _core_utils.is_core_schema(schema_or_field) \u001b[38;5;129;01mor\u001b[39;00m _core_utils.is_core_schema_field(schema_or_field):\n\u001b[32m    494\u001b[39m     generate_for_schema_type = \u001b[38;5;28mself\u001b[39m._schema_type_to_method[schema_or_field[\u001b[33m'\u001b[39m\u001b[33mtype\u001b[39m\u001b[33m'\u001b[39m]]\n\u001b[32m--> \u001b[39m\u001b[32m495\u001b[39m     json_schema = \u001b[43mgenerate_for_schema_type\u001b[49m\u001b[43m(\u001b[49m\u001b[43mschema_or_field\u001b[49m\u001b[43m)\u001b[49m\n\u001b[32m    496\u001b[39m \u001b[38;5;28;01melse\u001b[39;00m:\n\u001b[32m    497\u001b[39m     \u001b[38;5;28;01mraise\u001b[39;00m \u001b[38;5;167;01mTypeError\u001b[39;00m(\u001b[33mf\u001b[39m\u001b[33m'\u001b[39m\u001b[33mUnexpected schema type: schema=\u001b[39m\u001b[38;5;132;01m{\u001b[39;00mschema_or_field\u001b[38;5;132;01m}\u001b[39;00m\u001b[33m'\u001b[39m)\n",
      "\u001b[36mFile \u001b[39m\u001b[32m~/Documents/github/llm_playground/pyenv/lib/python3.12/site-packages/pydantic/json_schema.py:1488\u001b[39m, in \u001b[36mGenerateJsonSchema.model_schema\u001b[39m\u001b[34m(self, schema)\u001b[39m\n\u001b[32m   1485\u001b[39m config = \u001b[38;5;28mcls\u001b[39m.model_config\n\u001b[32m   1487\u001b[39m \u001b[38;5;28;01mwith\u001b[39;00m \u001b[38;5;28mself\u001b[39m._config_wrapper_stack.push(config):\n\u001b[32m-> \u001b[39m\u001b[32m1488\u001b[39m     json_schema = \u001b[38;5;28;43mself\u001b[39;49m\u001b[43m.\u001b[49m\u001b[43mgenerate_inner\u001b[49m\u001b[43m(\u001b[49m\u001b[43mschema\u001b[49m\u001b[43m[\u001b[49m\u001b[33;43m'\u001b[39;49m\u001b[33;43mschema\u001b[39;49m\u001b[33;43m'\u001b[39;49m\u001b[43m]\u001b[49m\u001b[43m)\u001b[49m\n\u001b[32m   1490\u001b[39m \u001b[38;5;28mself\u001b[39m._update_class_schema(json_schema, \u001b[38;5;28mcls\u001b[39m, config)\n\u001b[32m   1492\u001b[39m \u001b[38;5;28;01mreturn\u001b[39;00m json_schema\n",
      "\u001b[36mFile \u001b[39m\u001b[32m~/Documents/github/llm_playground/pyenv/lib/python3.12/site-packages/pydantic/json_schema.py:563\u001b[39m, in \u001b[36mGenerateJsonSchema.generate_inner\u001b[39m\u001b[34m(self, schema)\u001b[39m\n\u001b[32m    559\u001b[39m         \u001b[38;5;28;01mreturn\u001b[39;00m js_modify_function(schema_or_field, current_handler)\n\u001b[32m    561\u001b[39m     current_handler = _schema_generation_shared.GenerateJsonSchemaHandler(\u001b[38;5;28mself\u001b[39m, new_handler_func)\n\u001b[32m--> \u001b[39m\u001b[32m563\u001b[39m json_schema = \u001b[43mcurrent_handler\u001b[49m\u001b[43m(\u001b[49m\u001b[43mschema\u001b[49m\u001b[43m)\u001b[49m\n\u001b[32m    564\u001b[39m \u001b[38;5;28;01mif\u001b[39;00m _core_utils.is_core_schema(schema):\n\u001b[32m    565\u001b[39m     json_schema = populate_defs(schema, json_schema)\n",
      "\u001b[36mFile \u001b[39m\u001b[32m~/Documents/github/llm_playground/pyenv/lib/python3.12/site-packages/pydantic/_internal/_schema_generation_shared.py:37\u001b[39m, in \u001b[36mGenerateJsonSchemaHandler.__call__\u001b[39m\u001b[34m(self, core_schema)\u001b[39m\n\u001b[32m     36\u001b[39m \u001b[38;5;28;01mdef\u001b[39;00m \u001b[34m__call__\u001b[39m(\u001b[38;5;28mself\u001b[39m, core_schema: CoreSchemaOrField, /) -> JsonSchemaValue:\n\u001b[32m---> \u001b[39m\u001b[32m37\u001b[39m     \u001b[38;5;28;01mreturn\u001b[39;00m \u001b[38;5;28;43mself\u001b[39;49m\u001b[43m.\u001b[49m\u001b[43mhandler\u001b[49m\u001b[43m(\u001b[49m\u001b[43mcore_schema\u001b[49m\u001b[43m)\u001b[49m\n",
      "\u001b[36mFile \u001b[39m\u001b[32m~/Documents/github/llm_playground/pyenv/lib/python3.12/site-packages/pydantic/json_schema.py:495\u001b[39m, in \u001b[36mGenerateJsonSchema.generate_inner.<locals>.handler_func\u001b[39m\u001b[34m(schema_or_field)\u001b[39m\n\u001b[32m    493\u001b[39m \u001b[38;5;28;01mif\u001b[39;00m _core_utils.is_core_schema(schema_or_field) \u001b[38;5;129;01mor\u001b[39;00m _core_utils.is_core_schema_field(schema_or_field):\n\u001b[32m    494\u001b[39m     generate_for_schema_type = \u001b[38;5;28mself\u001b[39m._schema_type_to_method[schema_or_field[\u001b[33m'\u001b[39m\u001b[33mtype\u001b[39m\u001b[33m'\u001b[39m]]\n\u001b[32m--> \u001b[39m\u001b[32m495\u001b[39m     json_schema = \u001b[43mgenerate_for_schema_type\u001b[49m\u001b[43m(\u001b[49m\u001b[43mschema_or_field\u001b[49m\u001b[43m)\u001b[49m\n\u001b[32m    496\u001b[39m \u001b[38;5;28;01melse\u001b[39;00m:\n\u001b[32m    497\u001b[39m     \u001b[38;5;28;01mraise\u001b[39;00m \u001b[38;5;167;01mTypeError\u001b[39;00m(\u001b[33mf\u001b[39m\u001b[33m'\u001b[39m\u001b[33mUnexpected schema type: schema=\u001b[39m\u001b[38;5;132;01m{\u001b[39;00mschema_or_field\u001b[38;5;132;01m}\u001b[39;00m\u001b[33m'\u001b[39m)\n",
      "\u001b[36mFile \u001b[39m\u001b[32m~/Documents/github/llm_playground/pyenv/lib/python3.12/site-packages/pydantic/json_schema.py:1601\u001b[39m, in \u001b[36mGenerateJsonSchema.model_fields_schema\u001b[39m\u001b[34m(self, schema)\u001b[39m\n\u001b[32m   1599\u001b[39m \u001b[38;5;28;01mif\u001b[39;00m \u001b[38;5;28mself\u001b[39m.mode == \u001b[33m'\u001b[39m\u001b[33mserialization\u001b[39m\u001b[33m'\u001b[39m:\n\u001b[32m   1600\u001b[39m     named_required_fields.extend(\u001b[38;5;28mself\u001b[39m._name_required_computed_fields(schema.get(\u001b[33m'\u001b[39m\u001b[33mcomputed_fields\u001b[39m\u001b[33m'\u001b[39m, [])))\n\u001b[32m-> \u001b[39m\u001b[32m1601\u001b[39m json_schema = \u001b[38;5;28;43mself\u001b[39;49m\u001b[43m.\u001b[49m\u001b[43m_named_required_fields_schema\u001b[49m\u001b[43m(\u001b[49m\u001b[43mnamed_required_fields\u001b[49m\u001b[43m)\u001b[49m\n\u001b[32m   1602\u001b[39m extras_schema = schema.get(\u001b[33m'\u001b[39m\u001b[33mextras_schema\u001b[39m\u001b[33m'\u001b[39m, \u001b[38;5;28;01mNone\u001b[39;00m)\n\u001b[32m   1603\u001b[39m \u001b[38;5;28;01mif\u001b[39;00m extras_schema \u001b[38;5;129;01mis\u001b[39;00m \u001b[38;5;129;01mnot\u001b[39;00m \u001b[38;5;28;01mNone\u001b[39;00m:\n",
      "\u001b[36mFile \u001b[39m\u001b[32m~/Documents/github/llm_playground/pyenv/lib/python3.12/site-packages/pydantic/json_schema.py:1392\u001b[39m, in \u001b[36mGenerateJsonSchema._named_required_fields_schema\u001b[39m\u001b[34m(self, named_required_fields)\u001b[39m\n\u001b[32m   1390\u001b[39m     name = \u001b[38;5;28mself\u001b[39m._get_alias_name(field, name)\n\u001b[32m   1391\u001b[39m \u001b[38;5;28;01mtry\u001b[39;00m:\n\u001b[32m-> \u001b[39m\u001b[32m1392\u001b[39m     field_json_schema = \u001b[38;5;28;43mself\u001b[39;49m\u001b[43m.\u001b[49m\u001b[43mgenerate_inner\u001b[49m\u001b[43m(\u001b[49m\u001b[43mfield\u001b[49m\u001b[43m)\u001b[49m.copy()\n\u001b[32m   1393\u001b[39m \u001b[38;5;28;01mexcept\u001b[39;00m PydanticOmit:\n\u001b[32m   1394\u001b[39m     \u001b[38;5;28;01mcontinue\u001b[39;00m\n",
      "\u001b[36mFile \u001b[39m\u001b[32m~/Documents/github/llm_playground/pyenv/lib/python3.12/site-packages/pydantic/json_schema.py:563\u001b[39m, in \u001b[36mGenerateJsonSchema.generate_inner\u001b[39m\u001b[34m(self, schema)\u001b[39m\n\u001b[32m    559\u001b[39m         \u001b[38;5;28;01mreturn\u001b[39;00m js_modify_function(schema_or_field, current_handler)\n\u001b[32m    561\u001b[39m     current_handler = _schema_generation_shared.GenerateJsonSchemaHandler(\u001b[38;5;28mself\u001b[39m, new_handler_func)\n\u001b[32m--> \u001b[39m\u001b[32m563\u001b[39m json_schema = \u001b[43mcurrent_handler\u001b[49m\u001b[43m(\u001b[49m\u001b[43mschema\u001b[49m\u001b[43m)\u001b[49m\n\u001b[32m    564\u001b[39m \u001b[38;5;28;01mif\u001b[39;00m _core_utils.is_core_schema(schema):\n\u001b[32m    565\u001b[39m     json_schema = populate_defs(schema, json_schema)\n",
      "\u001b[36mFile \u001b[39m\u001b[32m~/Documents/github/llm_playground/pyenv/lib/python3.12/site-packages/pydantic/_internal/_schema_generation_shared.py:37\u001b[39m, in \u001b[36mGenerateJsonSchemaHandler.__call__\u001b[39m\u001b[34m(self, core_schema)\u001b[39m\n\u001b[32m     36\u001b[39m \u001b[38;5;28;01mdef\u001b[39;00m \u001b[34m__call__\u001b[39m(\u001b[38;5;28mself\u001b[39m, core_schema: CoreSchemaOrField, /) -> JsonSchemaValue:\n\u001b[32m---> \u001b[39m\u001b[32m37\u001b[39m     \u001b[38;5;28;01mreturn\u001b[39;00m \u001b[38;5;28;43mself\u001b[39;49m\u001b[43m.\u001b[49m\u001b[43mhandler\u001b[49m\u001b[43m(\u001b[49m\u001b[43mcore_schema\u001b[49m\u001b[43m)\u001b[49m\n",
      "\u001b[36mFile \u001b[39m\u001b[32m~/Documents/github/llm_playground/pyenv/lib/python3.12/site-packages/pydantic/json_schema.py:495\u001b[39m, in \u001b[36mGenerateJsonSchema.generate_inner.<locals>.handler_func\u001b[39m\u001b[34m(schema_or_field)\u001b[39m\n\u001b[32m    493\u001b[39m \u001b[38;5;28;01mif\u001b[39;00m _core_utils.is_core_schema(schema_or_field) \u001b[38;5;129;01mor\u001b[39;00m _core_utils.is_core_schema_field(schema_or_field):\n\u001b[32m    494\u001b[39m     generate_for_schema_type = \u001b[38;5;28mself\u001b[39m._schema_type_to_method[schema_or_field[\u001b[33m'\u001b[39m\u001b[33mtype\u001b[39m\u001b[33m'\u001b[39m]]\n\u001b[32m--> \u001b[39m\u001b[32m495\u001b[39m     json_schema = \u001b[43mgenerate_for_schema_type\u001b[49m\u001b[43m(\u001b[49m\u001b[43mschema_or_field\u001b[49m\u001b[43m)\u001b[49m\n\u001b[32m    496\u001b[39m \u001b[38;5;28;01melse\u001b[39;00m:\n\u001b[32m    497\u001b[39m     \u001b[38;5;28;01mraise\u001b[39;00m \u001b[38;5;167;01mTypeError\u001b[39;00m(\u001b[33mf\u001b[39m\u001b[33m'\u001b[39m\u001b[33mUnexpected schema type: schema=\u001b[39m\u001b[38;5;132;01m{\u001b[39;00mschema_or_field\u001b[38;5;132;01m}\u001b[39;00m\u001b[33m'\u001b[39m)\n",
      "\u001b[36mFile \u001b[39m\u001b[32m~/Documents/github/llm_playground/pyenv/lib/python3.12/site-packages/pydantic/json_schema.py:1460\u001b[39m, in \u001b[36mGenerateJsonSchema.model_field_schema\u001b[39m\u001b[34m(self, schema)\u001b[39m\n\u001b[32m   1451\u001b[39m \u001b[38;5;28;01mdef\u001b[39;00m \u001b[34mmodel_field_schema\u001b[39m(\u001b[38;5;28mself\u001b[39m, schema: core_schema.ModelField) -> JsonSchemaValue:\n\u001b[32m   1452\u001b[39m \u001b[38;5;250m    \u001b[39m\u001b[33;03m\"\"\"Generates a JSON schema that matches a schema that defines a model field.\u001b[39;00m\n\u001b[32m   1453\u001b[39m \n\u001b[32m   1454\u001b[39m \u001b[33;03m    Args:\u001b[39;00m\n\u001b[32m   (...)\u001b[39m\u001b[32m   1458\u001b[39m \u001b[33;03m        The generated JSON schema.\u001b[39;00m\n\u001b[32m   1459\u001b[39m \u001b[33;03m    \"\"\"\u001b[39;00m\n\u001b[32m-> \u001b[39m\u001b[32m1460\u001b[39m     \u001b[38;5;28;01mreturn\u001b[39;00m \u001b[38;5;28;43mself\u001b[39;49m\u001b[43m.\u001b[49m\u001b[43mgenerate_inner\u001b[49m\u001b[43m(\u001b[49m\u001b[43mschema\u001b[49m\u001b[43m[\u001b[49m\u001b[33;43m'\u001b[39;49m\u001b[33;43mschema\u001b[39;49m\u001b[33;43m'\u001b[39;49m\u001b[43m]\u001b[49m\u001b[43m)\u001b[49m\n",
      "\u001b[36mFile \u001b[39m\u001b[32m~/Documents/github/llm_playground/pyenv/lib/python3.12/site-packages/pydantic/json_schema.py:563\u001b[39m, in \u001b[36mGenerateJsonSchema.generate_inner\u001b[39m\u001b[34m(self, schema)\u001b[39m\n\u001b[32m    559\u001b[39m         \u001b[38;5;28;01mreturn\u001b[39;00m js_modify_function(schema_or_field, current_handler)\n\u001b[32m    561\u001b[39m     current_handler = _schema_generation_shared.GenerateJsonSchemaHandler(\u001b[38;5;28mself\u001b[39m, new_handler_func)\n\u001b[32m--> \u001b[39m\u001b[32m563\u001b[39m json_schema = \u001b[43mcurrent_handler\u001b[49m\u001b[43m(\u001b[49m\u001b[43mschema\u001b[49m\u001b[43m)\u001b[49m\n\u001b[32m    564\u001b[39m \u001b[38;5;28;01mif\u001b[39;00m _core_utils.is_core_schema(schema):\n\u001b[32m    565\u001b[39m     json_schema = populate_defs(schema, json_schema)\n",
      "\u001b[36mFile \u001b[39m\u001b[32m~/Documents/github/llm_playground/pyenv/lib/python3.12/site-packages/pydantic/_internal/_schema_generation_shared.py:37\u001b[39m, in \u001b[36mGenerateJsonSchemaHandler.__call__\u001b[39m\u001b[34m(self, core_schema)\u001b[39m\n\u001b[32m     36\u001b[39m \u001b[38;5;28;01mdef\u001b[39;00m \u001b[34m__call__\u001b[39m(\u001b[38;5;28mself\u001b[39m, core_schema: CoreSchemaOrField, /) -> JsonSchemaValue:\n\u001b[32m---> \u001b[39m\u001b[32m37\u001b[39m     \u001b[38;5;28;01mreturn\u001b[39;00m \u001b[38;5;28;43mself\u001b[39;49m\u001b[43m.\u001b[49m\u001b[43mhandler\u001b[49m\u001b[43m(\u001b[49m\u001b[43mcore_schema\u001b[49m\u001b[43m)\u001b[49m\n",
      "\u001b[36mFile \u001b[39m\u001b[32m~/Documents/github/llm_playground/pyenv/lib/python3.12/site-packages/pydantic/json_schema.py:495\u001b[39m, in \u001b[36mGenerateJsonSchema.generate_inner.<locals>.handler_func\u001b[39m\u001b[34m(schema_or_field)\u001b[39m\n\u001b[32m    493\u001b[39m \u001b[38;5;28;01mif\u001b[39;00m _core_utils.is_core_schema(schema_or_field) \u001b[38;5;129;01mor\u001b[39;00m _core_utils.is_core_schema_field(schema_or_field):\n\u001b[32m    494\u001b[39m     generate_for_schema_type = \u001b[38;5;28mself\u001b[39m._schema_type_to_method[schema_or_field[\u001b[33m'\u001b[39m\u001b[33mtype\u001b[39m\u001b[33m'\u001b[39m]]\n\u001b[32m--> \u001b[39m\u001b[32m495\u001b[39m     json_schema = \u001b[43mgenerate_for_schema_type\u001b[49m\u001b[43m(\u001b[49m\u001b[43mschema_or_field\u001b[49m\u001b[43m)\u001b[49m\n\u001b[32m    496\u001b[39m \u001b[38;5;28;01melse\u001b[39;00m:\n\u001b[32m    497\u001b[39m     \u001b[38;5;28;01mraise\u001b[39;00m \u001b[38;5;167;01mTypeError\u001b[39;00m(\u001b[33mf\u001b[39m\u001b[33m'\u001b[39m\u001b[33mUnexpected schema type: schema=\u001b[39m\u001b[38;5;132;01m{\u001b[39;00mschema_or_field\u001b[38;5;132;01m}\u001b[39;00m\u001b[33m'\u001b[39m)\n",
      "\u001b[36mFile \u001b[39m\u001b[32m~/Documents/github/llm_playground/pyenv/lib/python3.12/site-packages/pydantic/json_schema.py:1308\u001b[39m, in \u001b[36mGenerateJsonSchema.chain_schema\u001b[39m\u001b[34m(self, schema)\u001b[39m\n\u001b[32m   1296\u001b[39m \u001b[38;5;250m\u001b[39m\u001b[33;03m\"\"\"Generates a JSON schema that matches a core_schema.ChainSchema.\u001b[39;00m\n\u001b[32m   1297\u001b[39m \n\u001b[32m   1298\u001b[39m \u001b[33;03mWhen generating a schema for validation, we return the validation JSON schema for the first step in the chain.\u001b[39;00m\n\u001b[32m   (...)\u001b[39m\u001b[32m   1305\u001b[39m \u001b[33;03m    The generated JSON schema.\u001b[39;00m\n\u001b[32m   1306\u001b[39m \u001b[33;03m\"\"\"\u001b[39;00m\n\u001b[32m   1307\u001b[39m step_index = \u001b[32m0\u001b[39m \u001b[38;5;28;01mif\u001b[39;00m \u001b[38;5;28mself\u001b[39m.mode == \u001b[33m'\u001b[39m\u001b[33mvalidation\u001b[39m\u001b[33m'\u001b[39m \u001b[38;5;28;01melse\u001b[39;00m -\u001b[32m1\u001b[39m  \u001b[38;5;66;03m# use first step for validation, last for serialization\u001b[39;00m\n\u001b[32m-> \u001b[39m\u001b[32m1308\u001b[39m \u001b[38;5;28;01mreturn\u001b[39;00m \u001b[38;5;28;43mself\u001b[39;49m\u001b[43m.\u001b[49m\u001b[43mgenerate_inner\u001b[49m\u001b[43m(\u001b[49m\u001b[43mschema\u001b[49m\u001b[43m[\u001b[49m\u001b[33;43m'\u001b[39;49m\u001b[33;43msteps\u001b[39;49m\u001b[33;43m'\u001b[39;49m\u001b[43m]\u001b[49m\u001b[43m[\u001b[49m\u001b[43mstep_index\u001b[49m\u001b[43m]\u001b[49m\u001b[43m)\u001b[49m\n",
      "\u001b[36mFile \u001b[39m\u001b[32m~/Documents/github/llm_playground/pyenv/lib/python3.12/site-packages/pydantic/json_schema.py:563\u001b[39m, in \u001b[36mGenerateJsonSchema.generate_inner\u001b[39m\u001b[34m(self, schema)\u001b[39m\n\u001b[32m    559\u001b[39m         \u001b[38;5;28;01mreturn\u001b[39;00m js_modify_function(schema_or_field, current_handler)\n\u001b[32m    561\u001b[39m     current_handler = _schema_generation_shared.GenerateJsonSchemaHandler(\u001b[38;5;28mself\u001b[39m, new_handler_func)\n\u001b[32m--> \u001b[39m\u001b[32m563\u001b[39m json_schema = \u001b[43mcurrent_handler\u001b[49m\u001b[43m(\u001b[49m\u001b[43mschema\u001b[49m\u001b[43m)\u001b[49m\n\u001b[32m    564\u001b[39m \u001b[38;5;28;01mif\u001b[39;00m _core_utils.is_core_schema(schema):\n\u001b[32m    565\u001b[39m     json_schema = populate_defs(schema, json_schema)\n",
      "\u001b[36mFile \u001b[39m\u001b[32m~/Documents/github/llm_playground/pyenv/lib/python3.12/site-packages/pydantic/_internal/_schema_generation_shared.py:37\u001b[39m, in \u001b[36mGenerateJsonSchemaHandler.__call__\u001b[39m\u001b[34m(self, core_schema)\u001b[39m\n\u001b[32m     36\u001b[39m \u001b[38;5;28;01mdef\u001b[39;00m \u001b[34m__call__\u001b[39m(\u001b[38;5;28mself\u001b[39m, core_schema: CoreSchemaOrField, /) -> JsonSchemaValue:\n\u001b[32m---> \u001b[39m\u001b[32m37\u001b[39m     \u001b[38;5;28;01mreturn\u001b[39;00m \u001b[38;5;28;43mself\u001b[39;49m\u001b[43m.\u001b[49m\u001b[43mhandler\u001b[49m\u001b[43m(\u001b[49m\u001b[43mcore_schema\u001b[49m\u001b[43m)\u001b[49m\n",
      "\u001b[36mFile \u001b[39m\u001b[32m~/Documents/github/llm_playground/pyenv/lib/python3.12/site-packages/pydantic/json_schema.py:495\u001b[39m, in \u001b[36mGenerateJsonSchema.generate_inner.<locals>.handler_func\u001b[39m\u001b[34m(schema_or_field)\u001b[39m\n\u001b[32m    493\u001b[39m \u001b[38;5;28;01mif\u001b[39;00m _core_utils.is_core_schema(schema_or_field) \u001b[38;5;129;01mor\u001b[39;00m _core_utils.is_core_schema_field(schema_or_field):\n\u001b[32m    494\u001b[39m     generate_for_schema_type = \u001b[38;5;28mself\u001b[39m._schema_type_to_method[schema_or_field[\u001b[33m'\u001b[39m\u001b[33mtype\u001b[39m\u001b[33m'\u001b[39m]]\n\u001b[32m--> \u001b[39m\u001b[32m495\u001b[39m     json_schema = \u001b[43mgenerate_for_schema_type\u001b[49m\u001b[43m(\u001b[49m\u001b[43mschema_or_field\u001b[49m\u001b[43m)\u001b[49m\n\u001b[32m    496\u001b[39m \u001b[38;5;28;01melse\u001b[39;00m:\n\u001b[32m    497\u001b[39m     \u001b[38;5;28;01mraise\u001b[39;00m \u001b[38;5;167;01mTypeError\u001b[39;00m(\u001b[33mf\u001b[39m\u001b[33m'\u001b[39m\u001b[33mUnexpected schema type: schema=\u001b[39m\u001b[38;5;132;01m{\u001b[39;00mschema_or_field\u001b[38;5;132;01m}\u001b[39;00m\u001b[33m'\u001b[39m)\n",
      "\u001b[36mFile \u001b[39m\u001b[32m~/Documents/github/llm_playground/pyenv/lib/python3.12/site-packages/pydantic/json_schema.py:1082\u001b[39m, in \u001b[36mGenerateJsonSchema.function_plain_schema\u001b[39m\u001b[34m(self, schema)\u001b[39m\n\u001b[32m   1079\u001b[39m \u001b[38;5;28;01mif\u001b[39;00m \u001b[38;5;28mself\u001b[39m.mode == \u001b[33m'\u001b[39m\u001b[33mvalidation\u001b[39m\u001b[33m'\u001b[39m \u001b[38;5;129;01mand\u001b[39;00m (input_schema := schema.get(\u001b[33m'\u001b[39m\u001b[33mjson_schema_input_schema\u001b[39m\u001b[33m'\u001b[39m)):\n\u001b[32m   1080\u001b[39m     \u001b[38;5;28;01mreturn\u001b[39;00m \u001b[38;5;28mself\u001b[39m.generate_inner(input_schema)\n\u001b[32m-> \u001b[39m\u001b[32m1082\u001b[39m \u001b[38;5;28;01mreturn\u001b[39;00m \u001b[38;5;28;43mself\u001b[39;49m\u001b[43m.\u001b[49m\u001b[43mhandle_invalid_for_json_schema\u001b[49m\u001b[43m(\u001b[49m\n\u001b[32m   1083\u001b[39m \u001b[43m    \u001b[49m\u001b[43mschema\u001b[49m\u001b[43m,\u001b[49m\u001b[43m \u001b[49m\u001b[33;43mf\u001b[39;49m\u001b[33;43m'\u001b[39;49m\u001b[33;43mcore_schema.PlainValidatorFunctionSchema (\u001b[39;49m\u001b[38;5;132;43;01m{\u001b[39;49;00m\u001b[43mschema\u001b[49m\u001b[43m[\u001b[49m\u001b[33;43m\"\u001b[39;49m\u001b[33;43mfunction\u001b[39;49m\u001b[33;43m\"\u001b[39;49m\u001b[43m]\u001b[49m\u001b[38;5;132;43;01m}\u001b[39;49;00m\u001b[33;43m)\u001b[39;49m\u001b[33;43m'\u001b[39;49m\n\u001b[32m   1084\u001b[39m \u001b[43m\u001b[49m\u001b[43m)\u001b[49m\n",
      "\u001b[36mFile \u001b[39m\u001b[32m~/Documents/github/llm_playground/pyenv/lib/python3.12/site-packages/pydantic/json_schema.py:2318\u001b[39m, in \u001b[36mGenerateJsonSchema.handle_invalid_for_json_schema\u001b[39m\u001b[34m(self, schema, error_info)\u001b[39m\n\u001b[32m   2317\u001b[39m \u001b[38;5;28;01mdef\u001b[39;00m \u001b[34mhandle_invalid_for_json_schema\u001b[39m(\u001b[38;5;28mself\u001b[39m, schema: CoreSchemaOrField, error_info: \u001b[38;5;28mstr\u001b[39m) -> JsonSchemaValue:\n\u001b[32m-> \u001b[39m\u001b[32m2318\u001b[39m     \u001b[38;5;28;01mraise\u001b[39;00m PydanticInvalidForJsonSchema(\u001b[33mf\u001b[39m\u001b[33m'\u001b[39m\u001b[33mCannot generate a JsonSchema for \u001b[39m\u001b[38;5;132;01m{\u001b[39;00merror_info\u001b[38;5;132;01m}\u001b[39;00m\u001b[33m'\u001b[39m)\n",
      "\u001b[31mPydanticInvalidForJsonSchema\u001b[39m: Cannot generate a JsonSchema for core_schema.PlainValidatorFunctionSchema ({'type': 'with-info', 'function': <bound method BaseModel.validate of <class '__main__.SalesTransaction'>>})\n\nFor further information visit https://errors.pydantic.dev/2.11/u/invalid-for-json-schema"
     ]
    }
   ],
   "source": [
    "from langchain_experimental.tabular_synthetic_data.openai import (\n",
    "    create_openai_data_generator,\n",
    ")\n",
    "from langchain_openai import ChatOpenAI\n",
    "from dotenv import load_dotenv\n",
    "import os\n",
    "load_dotenv()\n",
    "\n",
    "openai_api_key = os.getenv(\"OPENAI_API_KEY\")\n",
    "generator = create_openai_data_generator(\n",
    "    output_schema=SalesTransaction,\n",
    "    llm = ChatOpenAI(\n",
    "        openai_api_key=openai_api_key,  \n",
    "        model=\"gpt-4o-mini-2024-07-18\"\n",
    "    ),\n",
    "    prompt = prompt_template,\n",
    ")\n",
    "print(generator)"
   ]
  },
  {
   "cell_type": "code",
   "execution_count": null,
   "id": "8795c78a",
   "metadata": {},
   "outputs": [],
   "source": []
  }
 ],
 "metadata": {
  "kernelspec": {
   "display_name": "pyenv",
   "language": "python",
   "name": "python3"
  },
  "language_info": {
   "codemirror_mode": {
    "name": "ipython",
    "version": 3
   },
   "file_extension": ".py",
   "mimetype": "text/x-python",
   "name": "python",
   "nbconvert_exporter": "python",
   "pygments_lexer": "ipython3",
   "version": "3.12.3"
  }
 },
 "nbformat": 4,
 "nbformat_minor": 5
}
