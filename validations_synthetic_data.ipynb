{
 "cells": [
  {
   "cell_type": "markdown",
   "id": "fdff9f3b",
   "metadata": {},
   "source": [
    "### Build a Data Model"
   ]
  },
  {
   "cell_type": "code",
   "execution_count": 26,
   "id": "f50aac41",
   "metadata": {},
   "outputs": [],
   "source": [
    "# from pydantic.v1 import BaseModel\n",
    "\n",
    "# class SalesTransaction(BaseModel):\n",
    "#     transaction_id: int\n",
    "#     customer_id: int\n",
    "#     customer_name: str\n",
    "#     product_id: int\n",
    "#     product_name: str\n",
    "#     product_category: str \n",
    "#     quantity: int \n",
    "#     unit_price: float \n",
    "#     toatl_price: float \n",
    "#     transaction_date: str\n",
    "\n",
    "from pydantic import BaseModel, Field, ConfigDict\n",
    "from datetime import date\n",
    "\n",
    "class SalesTransaction(BaseModel):\n",
    "    transaction_id: int = Field(..., description=\"Unique transaction identifier\")\n",
    "    customer_id:    int = Field(..., description=\"ID of the customer\")\n",
    "    customer_name:  str = Field(..., description=\"Full name of the customer\")\n",
    "    product_id:     int = Field(..., description=\"ID of the product sold\")\n",
    "    product_name:   str = Field(..., description=\"Name of the product sold\")\n",
    "    product_category: str = Field(..., description=\"Category of the product\")\n",
    "    quantity:       int   = Field(..., gt=0, description=\"Number of units sold\")\n",
    "    unit_price:     float = Field(..., gt=0, description=\"Price per single unit\")\n",
    "    total_price:    float = Field(..., gt=0, description=\"quantity × unit_price\")\n",
    "    transaction_date: date = Field(..., description=\"Date of the transaction\")\n",
    "\n",
    "    # Optional V2 config: forbid extra keys, etc.\n",
    "    model_config = ConfigDict(\n",
    "        extra=\"forbid\",        # error if unexpected fields are passed\n",
    "        populate_by_name=True, # allow aliases (if you add any Field(alias=…))\n",
    "    )\n"
   ]
  },
  {
   "cell_type": "markdown",
   "id": "684e99b7",
   "metadata": {},
   "source": [
    "### Build sample data fro synthetic generation in Python"
   ]
  },
  {
   "cell_type": "code",
   "execution_count": 38,
   "id": "23c5ad61",
   "metadata": {},
   "outputs": [],
   "source": [
    "sample_data = [\n",
    "    {\n",
    "        \"example\":\n",
    "        '''Transaction ID: 1001, Customer ID: 501, Customer Name: Alice J, Product ID: 201, Product Name: Hello Coding, Product Category: eLearning, Quantity: 2, Unit Price: $149,Total Price = $298, Transaction Date: 2030-01-02'''\n",
    "    },\n",
    "    {\n",
    "        \"example\":\n",
    "        '''Transaction ID: 1002, Customer ID: 502, Customer Name: Bob T, Product ID: 202, Product Name: Learn to Code, Product Category: eLearning, Quantity: 2, Unit Price: $149,Total Price = $298, Transaction Date: 2030-01-02'''\n",
    "    },\n",
    "    {\n",
    "        \"example\":\n",
    "        '''Transaction ID: 1003, Customer ID: 503, Customer Name: S.T. J, Product ID: 202, Product Name: Learn to Code, Product Category: eLearning, Quantity: 2, Unit Price: $149, Total Price = $298, Transaction Date: 2030-01-02'''\n",
    "    }\n",
    "]"
   ]
  },
  {
   "cell_type": "code",
   "execution_count": 39,
   "id": "78b9ef21",
   "metadata": {},
   "outputs": [
    {
     "name": "stdout",
     "output_type": "stream",
     "text": [
      "[{'example': 'Transaction ID: 1001, Customer ID: 501, Customer Name: Alice J, Product ID: 201, Product Name: Hello Coding, Product Category: eLearning, Quantity: 2, Unit Price: $149,Total Price = $298, Transaction Date: 2030-01-02'}, {'example': 'Transaction ID: 1002, Customer ID: 502, Customer Name: Bob T, Product ID: 202, Product Name: Learn to Code, Product Category: eLearning, Quantity: 2, Unit Price: $149,Total Price = $298, Transaction Date: 2030-01-02'}, {'example': 'Transaction ID: 1003, Customer ID: 503, Customer Name: S.T. J, Product ID: 202, Product Name: Learn to Code, Product Category: eLearning, Quantity: 2, Unit Price: $149, Total Price = $298, Transaction Date: 2030-01-02'}]\n"
     ]
    }
   ],
   "source": [
    "print(sample_data)"
   ]
  },
  {
   "cell_type": "markdown",
   "id": "cf287b91",
   "metadata": {},
   "source": [
    "### Build a prompt template for data generation LLM"
   ]
  },
  {
   "cell_type": "code",
   "execution_count": 29,
   "id": "dc1a2886",
   "metadata": {},
   "outputs": [
    {
     "name": "stdout",
     "output_type": "stream",
     "text": [
      "input_variables=['sample_data'] input_types={} partial_variables={} template='{sample_data}'\n"
     ]
    }
   ],
   "source": [
    "from langchain_core.prompts import PromptTemplate \n",
    "\n",
    "OPENAI_TEMPLATE = PromptTemplate(imput_variables=[\"Sample_data\"],\n",
    "                                 template=\"{sample_data}\"\n",
    "                                 )\n",
    "\n",
    "print(OPENAI_TEMPLATE)\n"
   ]
  },
  {
   "cell_type": "code",
   "execution_count": 30,
   "id": "64338577",
   "metadata": {},
   "outputs": [
    {
     "name": "stdout",
     "output_type": "stream",
     "text": [
      "Requirement already satisfied: langchain_experimental in ./pyenv/lib/python3.12/site-packages (0.3.4)\n",
      "Requirement already satisfied: langchain-community<0.4.0,>=0.3.0 in ./pyenv/lib/python3.12/site-packages (from langchain_experimental) (0.3.23)\n",
      "Requirement already satisfied: langchain-core<0.4.0,>=0.3.28 in ./pyenv/lib/python3.12/site-packages (from langchain_experimental) (0.3.58)\n",
      "Requirement already satisfied: langchain<1.0.0,>=0.3.24 in ./pyenv/lib/python3.12/site-packages (from langchain-community<0.4.0,>=0.3.0->langchain_experimental) (0.3.25)\n",
      "Requirement already satisfied: SQLAlchemy<3,>=1.4 in ./pyenv/lib/python3.12/site-packages (from langchain-community<0.4.0,>=0.3.0->langchain_experimental) (2.0.40)\n",
      "Requirement already satisfied: requests<3,>=2 in ./pyenv/lib/python3.12/site-packages (from langchain-community<0.4.0,>=0.3.0->langchain_experimental) (2.32.3)\n",
      "Requirement already satisfied: PyYAML>=5.3 in ./pyenv/lib/python3.12/site-packages (from langchain-community<0.4.0,>=0.3.0->langchain_experimental) (6.0.2)\n",
      "Requirement already satisfied: aiohttp<4.0.0,>=3.8.3 in ./pyenv/lib/python3.12/site-packages (from langchain-community<0.4.0,>=0.3.0->langchain_experimental) (3.11.18)\n",
      "Requirement already satisfied: tenacity!=8.4.0,<10,>=8.1.0 in ./pyenv/lib/python3.12/site-packages (from langchain-community<0.4.0,>=0.3.0->langchain_experimental) (9.0.0)\n",
      "Requirement already satisfied: dataclasses-json<0.7,>=0.5.7 in ./pyenv/lib/python3.12/site-packages (from langchain-community<0.4.0,>=0.3.0->langchain_experimental) (0.6.7)\n",
      "Requirement already satisfied: pydantic-settings<3.0.0,>=2.4.0 in ./pyenv/lib/python3.12/site-packages (from langchain-community<0.4.0,>=0.3.0->langchain_experimental) (2.9.1)\n",
      "Requirement already satisfied: langsmith<0.4,>=0.1.125 in ./pyenv/lib/python3.12/site-packages (from langchain-community<0.4.0,>=0.3.0->langchain_experimental) (0.3.42)\n",
      "Requirement already satisfied: httpx-sse<1.0.0,>=0.4.0 in ./pyenv/lib/python3.12/site-packages (from langchain-community<0.4.0,>=0.3.0->langchain_experimental) (0.4.0)\n",
      "Requirement already satisfied: numpy>=1.26.2 in ./pyenv/lib/python3.12/site-packages (from langchain-community<0.4.0,>=0.3.0->langchain_experimental) (2.2.1)\n",
      "Requirement already satisfied: jsonpatch<2.0,>=1.33 in ./pyenv/lib/python3.12/site-packages (from langchain-core<0.4.0,>=0.3.28->langchain_experimental) (1.33)\n",
      "Requirement already satisfied: packaging<25,>=23.2 in ./pyenv/lib/python3.12/site-packages (from langchain-core<0.4.0,>=0.3.28->langchain_experimental) (24.2)\n",
      "Requirement already satisfied: typing-extensions>=4.7 in ./pyenv/lib/python3.12/site-packages (from langchain-core<0.4.0,>=0.3.28->langchain_experimental) (4.12.2)\n",
      "Requirement already satisfied: pydantic<3.0.0,>=2.5.2 in ./pyenv/lib/python3.12/site-packages (from langchain-core<0.4.0,>=0.3.28->langchain_experimental) (2.11.4)\n",
      "Requirement already satisfied: aiohappyeyeballs>=2.3.0 in ./pyenv/lib/python3.12/site-packages (from aiohttp<4.0.0,>=3.8.3->langchain-community<0.4.0,>=0.3.0->langchain_experimental) (2.6.1)\n",
      "Requirement already satisfied: aiosignal>=1.1.2 in ./pyenv/lib/python3.12/site-packages (from aiohttp<4.0.0,>=3.8.3->langchain-community<0.4.0,>=0.3.0->langchain_experimental) (1.3.2)\n",
      "Requirement already satisfied: attrs>=17.3.0 in ./pyenv/lib/python3.12/site-packages (from aiohttp<4.0.0,>=3.8.3->langchain-community<0.4.0,>=0.3.0->langchain_experimental) (24.3.0)\n",
      "Requirement already satisfied: frozenlist>=1.1.1 in ./pyenv/lib/python3.12/site-packages (from aiohttp<4.0.0,>=3.8.3->langchain-community<0.4.0,>=0.3.0->langchain_experimental) (1.6.0)\n",
      "Requirement already satisfied: multidict<7.0,>=4.5 in ./pyenv/lib/python3.12/site-packages (from aiohttp<4.0.0,>=3.8.3->langchain-community<0.4.0,>=0.3.0->langchain_experimental) (6.4.3)\n",
      "Requirement already satisfied: propcache>=0.2.0 in ./pyenv/lib/python3.12/site-packages (from aiohttp<4.0.0,>=3.8.3->langchain-community<0.4.0,>=0.3.0->langchain_experimental) (0.3.1)\n",
      "Requirement already satisfied: yarl<2.0,>=1.17.0 in ./pyenv/lib/python3.12/site-packages (from aiohttp<4.0.0,>=3.8.3->langchain-community<0.4.0,>=0.3.0->langchain_experimental) (1.20.0)\n",
      "Requirement already satisfied: marshmallow<4.0.0,>=3.18.0 in ./pyenv/lib/python3.12/site-packages (from dataclasses-json<0.7,>=0.5.7->langchain-community<0.4.0,>=0.3.0->langchain_experimental) (3.26.1)\n",
      "Requirement already satisfied: typing-inspect<1,>=0.4.0 in ./pyenv/lib/python3.12/site-packages (from dataclasses-json<0.7,>=0.5.7->langchain-community<0.4.0,>=0.3.0->langchain_experimental) (0.9.0)\n",
      "Requirement already satisfied: jsonpointer>=1.9 in ./pyenv/lib/python3.12/site-packages (from jsonpatch<2.0,>=1.33->langchain-core<0.4.0,>=0.3.28->langchain_experimental) (3.0.0)\n",
      "Requirement already satisfied: langchain-text-splitters<1.0.0,>=0.3.8 in ./pyenv/lib/python3.12/site-packages (from langchain<1.0.0,>=0.3.24->langchain-community<0.4.0,>=0.3.0->langchain_experimental) (0.3.8)\n",
      "Requirement already satisfied: httpx<1,>=0.23.0 in ./pyenv/lib/python3.12/site-packages (from langsmith<0.4,>=0.1.125->langchain-community<0.4.0,>=0.3.0->langchain_experimental) (0.28.1)\n",
      "Requirement already satisfied: orjson<4.0.0,>=3.9.14 in ./pyenv/lib/python3.12/site-packages (from langsmith<0.4,>=0.1.125->langchain-community<0.4.0,>=0.3.0->langchain_experimental) (3.10.18)\n",
      "Requirement already satisfied: requests-toolbelt<2.0.0,>=1.0.0 in ./pyenv/lib/python3.12/site-packages (from langsmith<0.4,>=0.1.125->langchain-community<0.4.0,>=0.3.0->langchain_experimental) (1.0.0)\n",
      "Requirement already satisfied: zstandard<0.24.0,>=0.23.0 in ./pyenv/lib/python3.12/site-packages (from langsmith<0.4,>=0.1.125->langchain-community<0.4.0,>=0.3.0->langchain_experimental) (0.23.0)\n",
      "Requirement already satisfied: annotated-types>=0.6.0 in ./pyenv/lib/python3.12/site-packages (from pydantic<3.0.0,>=2.5.2->langchain-core<0.4.0,>=0.3.28->langchain_experimental) (0.7.0)\n",
      "Requirement already satisfied: pydantic-core==2.33.2 in ./pyenv/lib/python3.12/site-packages (from pydantic<3.0.0,>=2.5.2->langchain-core<0.4.0,>=0.3.28->langchain_experimental) (2.33.2)\n",
      "Requirement already satisfied: typing-inspection>=0.4.0 in ./pyenv/lib/python3.12/site-packages (from pydantic<3.0.0,>=2.5.2->langchain-core<0.4.0,>=0.3.28->langchain_experimental) (0.4.0)\n",
      "Requirement already satisfied: python-dotenv>=0.21.0 in ./pyenv/lib/python3.12/site-packages (from pydantic-settings<3.0.0,>=2.4.0->langchain-community<0.4.0,>=0.3.0->langchain_experimental) (1.1.0)\n",
      "Requirement already satisfied: charset-normalizer<4,>=2 in ./pyenv/lib/python3.12/site-packages (from requests<3,>=2->langchain-community<0.4.0,>=0.3.0->langchain_experimental) (3.4.1)\n",
      "Requirement already satisfied: idna<4,>=2.5 in ./pyenv/lib/python3.12/site-packages (from requests<3,>=2->langchain-community<0.4.0,>=0.3.0->langchain_experimental) (3.10)\n",
      "Requirement already satisfied: urllib3<3,>=1.21.1 in ./pyenv/lib/python3.12/site-packages (from requests<3,>=2->langchain-community<0.4.0,>=0.3.0->langchain_experimental) (2.3.0)\n",
      "Requirement already satisfied: certifi>=2017.4.17 in ./pyenv/lib/python3.12/site-packages (from requests<3,>=2->langchain-community<0.4.0,>=0.3.0->langchain_experimental) (2024.12.14)\n",
      "Requirement already satisfied: greenlet>=1 in ./pyenv/lib/python3.12/site-packages (from SQLAlchemy<3,>=1.4->langchain-community<0.4.0,>=0.3.0->langchain_experimental) (3.2.1)\n",
      "Requirement already satisfied: anyio in ./pyenv/lib/python3.12/site-packages (from httpx<1,>=0.23.0->langsmith<0.4,>=0.1.125->langchain-community<0.4.0,>=0.3.0->langchain_experimental) (4.9.0)\n",
      "Requirement already satisfied: httpcore==1.* in ./pyenv/lib/python3.12/site-packages (from httpx<1,>=0.23.0->langsmith<0.4,>=0.1.125->langchain-community<0.4.0,>=0.3.0->langchain_experimental) (1.0.9)\n",
      "Requirement already satisfied: h11>=0.16 in ./pyenv/lib/python3.12/site-packages (from httpcore==1.*->httpx<1,>=0.23.0->langsmith<0.4,>=0.1.125->langchain-community<0.4.0,>=0.3.0->langchain_experimental) (0.16.0)\n",
      "Requirement already satisfied: mypy-extensions>=0.3.0 in ./pyenv/lib/python3.12/site-packages (from typing-inspect<1,>=0.4.0->dataclasses-json<0.7,>=0.5.7->langchain-community<0.4.0,>=0.3.0->langchain_experimental) (1.1.0)\n",
      "Requirement already satisfied: sniffio>=1.1 in ./pyenv/lib/python3.12/site-packages (from anyio->httpx<1,>=0.23.0->langsmith<0.4,>=0.1.125->langchain-community<0.4.0,>=0.3.0->langchain_experimental) (1.3.1)\n"
     ]
    }
   ],
   "source": [
    "!pip install langchain_experimental"
   ]
  },
  {
   "cell_type": "code",
   "execution_count": 31,
   "id": "34b24e02",
   "metadata": {},
   "outputs": [],
   "source": [
    "from langchain_experimental.tabular_synthetic_data.prompts import (\n",
    "    SYNTHETIC_FEW_SHOT_PREFIX,\n",
    "    SYNTHETIC_FEW_SHOT_SUFFIX,\n",
    ")\n",
    "\n",
    "from langchain_core.prompts.few_shot import FewShotPromptTemplate\n",
    "\n",
    "prompt_template = FewShotPromptTemplate(\n",
    "    prefix = SYNTHETIC_FEW_SHOT_PREFIX,\n",
    "    examples = sample_data,\n",
    "    suffix = SYNTHETIC_FEW_SHOT_SUFFIX,\n",
    "    input_variables=[\"subect\", \"extra\"],\n",
    "    example_prompt = OPENAI_TEMPLATE,\n",
    ")"
   ]
  },
  {
   "cell_type": "code",
   "execution_count": 32,
   "id": "ef9afcad",
   "metadata": {},
   "outputs": [
    {
     "name": "stdout",
     "output_type": "stream",
     "text": [
      "input_variables=['extra', 'subject'] input_types={} partial_variables={} examples=[{'example': 'Transaction ID: 1001, Customer ID: 501, Customer Name: Alice J, Product ID: 201, Product Name: Hello Coding, Product Category: eLearning, Quantity: 2, Unit Price: $149,Total Price = $298, Transaction Date: 2030-01-02'}, {'example': 'Transaction ID: 1002, Customer ID: 502, Customer Name: Bob T, Product ID: 202, Product Name: Learn to Code, Product Category: eLearning, Quantity: 2, Unit Price: $149,Total Price = $298, Transaction Date: 2030-01-02'}, {'example': 'Transaction ID: 1003, Customer ID: 503, Customer Name: S.T. J, Product ID: 202, Product Name: Learn to Code, Product Category: eLearning, Quantity: 2, Unit Price: $149, Total Price = $298, Transaction Date: 2030-01-02'}] example_prompt=PromptTemplate(input_variables=['sample_data'], input_types={}, partial_variables={}, template='{sample_data}') suffix='Now you generate synthetic data about {subject}. Make sure to {extra}:' prefix='This is a test about generating synthetic data about {subject}. Examples below:'\n"
     ]
    }
   ],
   "source": [
    "print(prompt_template)"
   ]
  },
  {
   "cell_type": "markdown",
   "id": "101384c5",
   "metadata": {},
   "source": [
    "### Build a data generator with LangChain OpenAI Python SDK"
   ]
  },
  {
   "cell_type": "code",
   "execution_count": 34,
   "id": "1d766418",
   "metadata": {},
   "outputs": [
    {
     "name": "stdout",
     "output_type": "stream",
     "text": [
      "template=FewShotPromptTemplate(input_variables=['extra', 'subject'], input_types={}, partial_variables={}, examples=[{'example': 'Transaction ID: 1001, Customer ID: 501, Customer Name: Alice J, Product ID: 201, Product Name: Hello Coding, Product Category: eLearning, Quantity: 2, Unit Price: $149,Total Price = $298, Transaction Date: 2030-01-02'}, {'example': 'Transaction ID: 1002, Customer ID: 502, Customer Name: Bob T, Product ID: 202, Product Name: Learn to Code, Product Category: eLearning, Quantity: 2, Unit Price: $149,Total Price = $298, Transaction Date: 2030-01-02'}, {'example': 'Transaction ID: 1003, Customer ID: 503, Customer Name: S.T. J, Product ID: 202, Product Name: Learn to Code, Product Category: eLearning, Quantity: 2, Unit Price: $149, Total Price = $298, Transaction Date: 2030-01-02'}], example_prompt=PromptTemplate(input_variables=['sample_data'], input_types={}, partial_variables={}, template='{sample_data}'), suffix='Now you generate synthetic data about {subject}. Make sure to {extra}:', prefix='This is a test about generating synthetic data about {subject}. Examples below:') llm=None results=[] llm_chain=LLMChain(verbose=False, prompt=FewShotPromptTemplate(input_variables=['extra', 'subject'], input_types={}, partial_variables={}, examples=[{'example': 'Transaction ID: 1001, Customer ID: 501, Customer Name: Alice J, Product ID: 201, Product Name: Hello Coding, Product Category: eLearning, Quantity: 2, Unit Price: $149,Total Price = $298, Transaction Date: 2030-01-02'}, {'example': 'Transaction ID: 1002, Customer ID: 502, Customer Name: Bob T, Product ID: 202, Product Name: Learn to Code, Product Category: eLearning, Quantity: 2, Unit Price: $149,Total Price = $298, Transaction Date: 2030-01-02'}, {'example': 'Transaction ID: 1003, Customer ID: 503, Customer Name: S.T. J, Product ID: 202, Product Name: Learn to Code, Product Category: eLearning, Quantity: 2, Unit Price: $149, Total Price = $298, Transaction Date: 2030-01-02'}], example_prompt=PromptTemplate(input_variables=['sample_data'], input_types={}, partial_variables={}, template='{sample_data}'), suffix='Now you generate synthetic data about {subject}. Make sure to {extra}:', prefix='This is a test about generating synthetic data about {subject}. Examples below:'), llm=ChatOpenAI(client=<openai.resources.chat.completions.completions.Completions object at 0x7149372af590>, async_client=<openai.resources.chat.completions.completions.AsyncCompletions object at 0x7149372afa10>, root_client=<openai.OpenAI object at 0x71493785ac90>, root_async_client=<openai.AsyncOpenAI object at 0x7149372ae210>, model_name='gpt-4o-mini-2024-07-18', model_kwargs={}, openai_api_key=SecretStr('**********')), output_key='function', output_parser=PydanticAttrOutputFunctionsParser(pydantic_schema=<class 'langchain.chains.openai_functions.base.create_structured_output_chain.<locals>._OutputFormatter'>, attr_name='output'), llm_kwargs={'functions': [{'name': '_OutputFormatter', 'description': 'Output formatter. Should always be used to format your response to the user.', 'parameters': {'properties': {'output': {'additionalProperties': False, 'properties': {'transaction_id': {'description': 'Unique transaction identifier', 'type': 'integer'}, 'customer_id': {'description': 'ID of the customer', 'type': 'integer'}, 'customer_name': {'description': 'Full name of the customer', 'type': 'string'}, 'product_id': {'description': 'ID of the product sold', 'type': 'integer'}, 'product_name': {'description': 'Name of the product sold', 'type': 'string'}, 'product_category': {'description': 'Category of the product', 'type': 'string'}, 'quantity': {'description': 'Number of units sold', 'exclusiveMinimum': 0, 'type': 'integer'}, 'unit_price': {'description': 'Price per single unit', 'exclusiveMinimum': 0, 'type': 'number'}, 'total_price': {'description': 'quantity × unit_price', 'exclusiveMinimum': 0, 'type': 'number'}, 'transaction_date': {'description': 'Date of the transaction', 'format': 'date', 'type': 'string'}}, 'required': ['transaction_id', 'customer_id', 'customer_name', 'product_id', 'product_name', 'product_category', 'quantity', 'unit_price', 'total_price', 'transaction_date'], 'type': 'object'}}, 'required': ['output'], 'type': 'object'}}], 'function_call': {'name': '_OutputFormatter'}}) example_input_key='example'\n"
     ]
    }
   ],
   "source": [
    "from langchain_experimental.tabular_synthetic_data.openai import create_openai_data_generator\n",
    "from langchain_openai import ChatOpenAI\n",
    "import os\n",
    "from dotenv import load_dotenv\n",
    "\n",
    "load_dotenv()\n",
    "\n",
    "generator = create_openai_data_generator(\n",
    "    output_schema=SalesTransaction,        # ← your pure Pydantic V2 model\n",
    "    llm=ChatOpenAI(\n",
    "        openai_api_key=os.getenv(\"OPENAI_API_KEY\"),\n",
    "        model=\"gpt-4o-mini-2024-07-18\",\n",
    "    ),\n",
    "    prompt=prompt_template,\n",
    ")\n",
    "\n",
    "print(generator)\n"
   ]
  },
  {
   "cell_type": "code",
   "execution_count": 36,
   "id": "8795c78a",
   "metadata": {},
   "outputs": [
    {
     "name": "stdout",
     "output_type": "stream",
     "text": [
      "template=FewShotPromptTemplate(input_variables=['extra', 'subject'], input_types={}, partial_variables={}, examples=[{'example': 'Transaction ID: 1001, Customer ID: 501, Customer Name: Alice J, Product ID: 201, Product Name: Hello Coding, Product Category: eLearning, Quantity: 2, Unit Price: $149,Total Price = $298, Transaction Date: 2030-01-02'}, {'example': 'Transaction ID: 1002, Customer ID: 502, Customer Name: Bob T, Product ID: 202, Product Name: Learn to Code, Product Category: eLearning, Quantity: 2, Unit Price: $149,Total Price = $298, Transaction Date: 2030-01-02'}, {'example': 'Transaction ID: 1003, Customer ID: 503, Customer Name: S.T. J, Product ID: 202, Product Name: Learn to Code, Product Category: eLearning, Quantity: 2, Unit Price: $149, Total Price = $298, Transaction Date: 2030-01-02'}], example_prompt=PromptTemplate(input_variables=['sample_data'], input_types={}, partial_variables={}, template='{sample_data}'), suffix='Now you generate synthetic data about {subject}. Make sure to {extra}:', prefix='This is a test about generating synthetic data about {subject}. Examples below:') llm=None results=[] llm_chain=LLMChain(verbose=False, prompt=FewShotPromptTemplate(input_variables=['extra', 'subject'], input_types={}, partial_variables={}, examples=[{'example': 'Transaction ID: 1001, Customer ID: 501, Customer Name: Alice J, Product ID: 201, Product Name: Hello Coding, Product Category: eLearning, Quantity: 2, Unit Price: $149,Total Price = $298, Transaction Date: 2030-01-02'}, {'example': 'Transaction ID: 1002, Customer ID: 502, Customer Name: Bob T, Product ID: 202, Product Name: Learn to Code, Product Category: eLearning, Quantity: 2, Unit Price: $149,Total Price = $298, Transaction Date: 2030-01-02'}, {'example': 'Transaction ID: 1003, Customer ID: 503, Customer Name: S.T. J, Product ID: 202, Product Name: Learn to Code, Product Category: eLearning, Quantity: 2, Unit Price: $149, Total Price = $298, Transaction Date: 2030-01-02'}], example_prompt=PromptTemplate(input_variables=['sample_data'], input_types={}, partial_variables={}, template='{sample_data}'), suffix='Now you generate synthetic data about {subject}. Make sure to {extra}:', prefix='This is a test about generating synthetic data about {subject}. Examples below:'), llm=ChatOpenAI(client=<openai.resources.chat.completions.completions.Completions object at 0x7149372af590>, async_client=<openai.resources.chat.completions.completions.AsyncCompletions object at 0x7149372afa10>, root_client=<openai.OpenAI object at 0x71493785ac90>, root_async_client=<openai.AsyncOpenAI object at 0x7149372ae210>, model_name='gpt-4o-mini-2024-07-18', model_kwargs={}, openai_api_key=SecretStr('**********')), output_key='function', output_parser=PydanticAttrOutputFunctionsParser(pydantic_schema=<class 'langchain.chains.openai_functions.base.create_structured_output_chain.<locals>._OutputFormatter'>, attr_name='output'), llm_kwargs={'functions': [{'name': '_OutputFormatter', 'description': 'Output formatter. Should always be used to format your response to the user.', 'parameters': {'properties': {'output': {'additionalProperties': False, 'properties': {'transaction_id': {'description': 'Unique transaction identifier', 'type': 'integer'}, 'customer_id': {'description': 'ID of the customer', 'type': 'integer'}, 'customer_name': {'description': 'Full name of the customer', 'type': 'string'}, 'product_id': {'description': 'ID of the product sold', 'type': 'integer'}, 'product_name': {'description': 'Name of the product sold', 'type': 'string'}, 'product_category': {'description': 'Category of the product', 'type': 'string'}, 'quantity': {'description': 'Number of units sold', 'exclusiveMinimum': 0, 'type': 'integer'}, 'unit_price': {'description': 'Price per single unit', 'exclusiveMinimum': 0, 'type': 'number'}, 'total_price': {'description': 'quantity × unit_price', 'exclusiveMinimum': 0, 'type': 'number'}, 'transaction_date': {'description': 'Date of the transaction', 'format': 'date', 'type': 'string'}}, 'required': ['transaction_id', 'customer_id', 'customer_name', 'product_id', 'product_name', 'product_category', 'quantity', 'unit_price', 'total_price', 'transaction_date'], 'type': 'object'}}, 'required': ['output'], 'type': 'object'}}], 'function_call': {'name': '_OutputFormatter'}}) example_input_key='example'\n"
     ]
    }
   ],
   "source": [
    "print(generator)"
   ]
  },
  {
   "cell_type": "markdown",
   "id": "b0ed5482",
   "metadata": {},
   "source": [
    "### Generate synthetic data with LangChain OpenAI"
   ]
  },
  {
   "cell_type": "code",
   "execution_count": 47,
   "id": "ff817904",
   "metadata": {},
   "outputs": [
    {
     "name": "stdout",
     "output_type": "stream",
     "text": [
      "template=FewShotPromptTemplate(input_variables=['extra', 'subject'], input_types={}, partial_variables={}, examples=[{'example': 'Transaction ID: 1\\nCustomer ID: 42\\nCustomer Name: Alice Smith\\nProduct ID: 101\\nProduct Name: Blue Widget\\nProduct Category: Widgets\\nQuantity: 2\\nUnit Price: 19.99\\nTotal Price: 39.98\\nTransaction Date: 2025-05-08'}], example_prompt=PromptTemplate(input_variables=['example'], input_types={}, partial_variables={}, template='{example}'), suffix='Now you generate synthetic data about {subject}. Make sure to {extra}:', prefix='This is a test about generating synthetic data about {subject}. Examples below:') llm=None results=[] llm_chain=LLMChain(verbose=False, prompt=FewShotPromptTemplate(input_variables=['extra', 'subject'], input_types={}, partial_variables={}, examples=[{'example': 'Transaction ID: 1\\nCustomer ID: 42\\nCustomer Name: Alice Smith\\nProduct ID: 101\\nProduct Name: Blue Widget\\nProduct Category: Widgets\\nQuantity: 2\\nUnit Price: 19.99\\nTotal Price: 39.98\\nTransaction Date: 2025-05-08'}], example_prompt=PromptTemplate(input_variables=['example'], input_types={}, partial_variables={}, template='{example}'), suffix='Now you generate synthetic data about {subject}. Make sure to {extra}:', prefix='This is a test about generating synthetic data about {subject}. Examples below:'), llm=ChatOpenAI(client=<openai.resources.chat.completions.completions.Completions object at 0x714920877620>, async_client=<openai.resources.chat.completions.completions.AsyncCompletions object at 0x714920881400>, root_client=<openai.OpenAI object at 0x714920874200>, root_async_client=<openai.AsyncOpenAI object at 0x714920a3cd10>, model_name='gpt-4o-mini-2024-07-18', model_kwargs={}, openai_api_key=SecretStr('**********')), output_key='function', output_parser=PydanticAttrOutputFunctionsParser(pydantic_schema=<class 'langchain.chains.openai_functions.base.create_structured_output_chain.<locals>._OutputFormatter'>, attr_name='output'), llm_kwargs={'functions': [{'name': '_OutputFormatter', 'description': 'Output formatter. Should always be used to format your response to the user.', 'parameters': {'properties': {'output': {'additionalProperties': False, 'properties': {'transaction_id': {'description': 'Unique transaction ID', 'type': 'integer'}, 'customer_id': {'description': 'Customer ID', 'type': 'integer'}, 'customer_name': {'description': 'Customer name', 'type': 'string'}, 'product_id': {'description': 'Product ID', 'type': 'integer'}, 'product_name': {'description': 'Product name', 'type': 'string'}, 'product_category': {'description': 'Category', 'type': 'string'}, 'quantity': {'description': 'Units sold', 'exclusiveMinimum': 0, 'type': 'integer'}, 'unit_price': {'description': 'Price per unit', 'exclusiveMinimum': 0, 'type': 'number'}, 'total_price': {'description': 'quantity × unit_price', 'exclusiveMinimum': 0, 'type': 'number'}, 'transaction_date': {'description': 'Date of sale', 'format': 'date', 'type': 'string'}}, 'required': ['transaction_id', 'customer_id', 'customer_name', 'product_id', 'product_name', 'product_category', 'quantity', 'unit_price', 'total_price', 'transaction_date'], 'type': 'object'}}, 'required': ['output'], 'type': 'object'}}], 'function_call': {'name': '_OutputFormatter'}}) example_input_key='example'\n"
     ]
    }
   ],
   "source": [
    "from langchain.prompts import FewShotPromptTemplate\n",
    "from langchain_experimental.tabular_synthetic_data.openai import create_openai_data_generator, OPENAI_TEMPLATE\n",
    "from langchain_experimental.tabular_synthetic_data.prompts import (\n",
    "    SYNTHETIC_FEW_SHOT_PREFIX,\n",
    "    SYNTHETIC_FEW_SHOT_SUFFIX,\n",
    ")\n",
    "from langchain_openai import ChatOpenAI\n",
    "import os\n",
    "from dotenv import load_dotenv\n",
    "\n",
    "load_dotenv()\n",
    "\n",
    "# 1) Prepare one or more text examples for formatting\n",
    "examples = [\n",
    "    {\n",
    "        \"example\": \"\"\"\\\n",
    "Transaction ID: 1\n",
    "Customer ID: 42\n",
    "Customer Name: Alice Smith\n",
    "Product ID: 101\n",
    "Product Name: Blue Widget\n",
    "Product Category: Widgets\n",
    "Quantity: 2\n",
    "Unit Price: 19.99\n",
    "Total Price: 39.98\n",
    "Transaction Date: 2025-05-08\"\"\"\n",
    "    }\n",
    "]\n",
    "\n",
    "# 2) Build a FewShotPromptTemplate\n",
    "prompt_template = FewShotPromptTemplate(\n",
    "    prefix=SYNTHETIC_FEW_SHOT_PREFIX,\n",
    "    examples=examples,\n",
    "    suffix=SYNTHETIC_FEW_SHOT_SUFFIX,\n",
    "    input_variables=[\"subject\", \"extra\"],\n",
    "    example_prompt=OPENAI_TEMPLATE,  # just “{example}”\n",
    ")\n",
    "\n",
    "# 3) Create the generator\n",
    "generator = create_openai_data_generator(\n",
    "    output_schema=SalesTransaction,\n",
    "    llm=ChatOpenAI(\n",
    "        openai_api_key=os.getenv(\"OPENAI_API_KEY\"),\n",
    "        model=\"gpt-4o-mini-2024-07-18\",\n",
    "    ),\n",
    "    prompt=prompt_template,  # ← a BasePromptTemplate instance\n",
    ")\n",
    "print(generator)\n"
   ]
  },
  {
   "cell_type": "code",
   "execution_count": 48,
   "id": "d04c6a15",
   "metadata": {},
   "outputs": [],
   "source": [
    "results = generator.generate(\n",
    "    subject=\"transactions\",\n",
    "    sample_data=[],  # or your real examples list\n",
    "    extra=\"Randomize everything!\",\n",
    "    runs=20,\n",
    ")"
   ]
  },
  {
   "cell_type": "code",
   "execution_count": 49,
   "id": "0be920bb",
   "metadata": {},
   "outputs": [
    {
     "name": "stdout",
     "output_type": "stream",
     "text": [
      "[SalesTransaction(transaction_id=107, customer_id=58, customer_name='John Doe', product_id=203, product_name='Green Gadget', product_category='Gadgets', quantity=4, unit_price=15.99, total_price=63.96, transaction_date=datetime.date(2025, 5, 9)), SalesTransaction(transaction_id=768, customer_id=43, customer_name='Jane Smith', product_id=127, product_name='Blue Widget', product_category='Widgets', quantity=2, unit_price=22.5, total_price=45.0, transaction_date=datetime.date(2025, 4, 15)), SalesTransaction(transaction_id=543, customer_id=57, customer_name='Alice Johnson', product_id=102, product_name='Red Gadget', product_category='Gadgets', quantity=3, unit_price=18.75, total_price=56.25, transaction_date=datetime.date(2025, 5, 2)), SalesTransaction(transaction_id=732, customer_id=45, customer_name='Mark Stevens', product_id=258, product_name='Blue Widget', product_category='Widgets', quantity=4, unit_price=22.5, total_price=90.0, transaction_date=datetime.date(2025, 8, 15)), SalesTransaction(transaction_id=984, customer_id=57, customer_name='Rachel Green', product_id=342, product_name='Red Gadget', product_category='Gadgets', quantity=3, unit_price=15.75, total_price=47.25, transaction_date=datetime.date(2025, 7, 22)), SalesTransaction(transaction_id=245, customer_id=83, customer_name='Michael Scott', product_id=512, product_name='Blue Mug', product_category='Kitchenware', quantity=2, unit_price=9.99, total_price=19.98, transaction_date=datetime.date(2025, 9, 16)), SalesTransaction(transaction_id=478, customer_id=29, customer_name='Pam Beesly', product_id=305, product_name='Wireless Mouse', product_category='Electronics', quantity=3, unit_price=25.99, total_price=77.97, transaction_date=datetime.date(2025, 9, 17)), SalesTransaction(transaction_id=574, customer_id=42, customer_name='Jim Halpert', product_id=223, product_name='Bluetooth Headphones', product_category='Electronics', quantity=2, unit_price=49.99, total_price=99.98, transaction_date=datetime.date(2025, 10, 5)), SalesTransaction(transaction_id=819, customer_id=34, customer_name='Pam Beesly', product_id=566, product_name='Wireless Mouse', product_category='Electronics', quantity=3, unit_price=25.75, total_price=77.25, transaction_date=datetime.date(2025, 10, 6)), SalesTransaction(transaction_id=842, customer_id=62, customer_name='Michael Scott', product_id=453, product_name='Office Chair', product_category='Furniture', quantity=2, unit_price=150.0, total_price=300.0, transaction_date=datetime.date(2025, 10, 7)), SalesTransaction(transaction_id=927, customer_id=48, customer_name='Pam Beesly', product_id=312, product_name='Notebook', product_category='Stationery', quantity=5, unit_price=2.5, total_price=12.5, transaction_date=datetime.date(2025, 10, 7)), SalesTransaction(transaction_id=1023, customer_id=19, customer_name='Jim Halpert', product_id=453, product_name='Coffee Mug', product_category='Drinkware', quantity=3, unit_price=8.99, total_price=26.97, transaction_date=datetime.date(2025, 10, 8)), SalesTransaction(transaction_id=2045, customer_id=37, customer_name='Pam Beesly', product_id=512, product_name='Notebook', product_category='Stationery', quantity=5, unit_price=3.49, total_price=17.45, transaction_date=datetime.date(2025, 10, 9)), SalesTransaction(transaction_id=4532, customer_id=86, customer_name='Jim Halpert', product_id=210, product_name='Coffee Mug', product_category='Kitchenware', quantity=8, unit_price=4.75, total_price=38.0, transaction_date=datetime.date(2023, 11, 5)), SalesTransaction(transaction_id=2013, customer_id=45, customer_name='Pam Beesly', product_id=512, product_name='Office Chair', product_category='Furniture', quantity=3, unit_price=125.99, total_price=377.97, transaction_date=datetime.date(2023, 11, 5)), SalesTransaction(transaction_id=5678, customer_id=23, customer_name='Michael Scott', product_id=432, product_name='Wireless Mouse', product_category='Electronics', quantity=5, unit_price=29.99, total_price=149.95, transaction_date=datetime.date(2023, 11, 5)), SalesTransaction(transaction_id=1234, customer_id=56, customer_name='Alice Johnson', product_id=789, product_name='Bluetooth Headphones', product_category='Audio', quantity=3, unit_price=89.99, total_price=269.97, transaction_date=datetime.date(2023, 10, 10)), SalesTransaction(transaction_id=3256, customer_id=42, customer_name='Michael Smith', product_id=678, product_name='Wireless Mouse', product_category='Computers', quantity=1, unit_price=49.99, total_price=49.99, transaction_date=datetime.date(2023, 10, 12)), SalesTransaction(transaction_id=1357, customer_id=89, customer_name='Anna Johnson', product_id=234, product_name='Bluetooth Headphones', product_category='Electronics', quantity=2, unit_price=79.99, total_price=159.98, transaction_date=datetime.date(2023, 10, 12)), SalesTransaction(transaction_id=9263, customer_id=45, customer_name='Michael Smith', product_id=678, product_name='Smart Watch', product_category='Wearables', quantity=3, unit_price=199.99, total_price=599.97, transaction_date=datetime.date(2023, 10, 11))]\n"
     ]
    }
   ],
   "source": [
    "print(results)"
   ]
  },
  {
   "cell_type": "code",
   "execution_count": null,
   "id": "fe689527",
   "metadata": {},
   "outputs": [],
   "source": []
  }
 ],
 "metadata": {
  "kernelspec": {
   "display_name": "pyenv",
   "language": "python",
   "name": "python3"
  },
  "language_info": {
   "codemirror_mode": {
    "name": "ipython",
    "version": 3
   },
   "file_extension": ".py",
   "mimetype": "text/x-python",
   "name": "python",
   "nbconvert_exporter": "python",
   "pygments_lexer": "ipython3",
   "version": "3.12.3"
  }
 },
 "nbformat": 4,
 "nbformat_minor": 5
}
