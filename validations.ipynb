{
 "cells": [
  {
   "cell_type": "code",
   "execution_count": 5,
   "id": "439c7106",
   "metadata": {},
   "outputs": [
    {
     "name": "stdout",
     "output_type": "stream",
     "text": [
      "Collecting python-dotenv\n",
      "  Using cached python_dotenv-1.1.0-py3-none-any.whl.metadata (24 kB)\n",
      "Using cached python_dotenv-1.1.0-py3-none-any.whl (20 kB)\n",
      "Installing collected packages: python-dotenv\n",
      "Successfully installed python-dotenv-1.1.0\n"
     ]
    }
   ],
   "source": [
    "!pip install python-dotenv"
   ]
  },
  {
   "cell_type": "code",
   "execution_count": 2,
   "id": "ffd4b697",
   "metadata": {},
   "outputs": [],
   "source": [
    "from langchain_anthropic import ChatAnthropic"
   ]
  },
  {
   "cell_type": "code",
   "execution_count": 8,
   "id": "52c76426",
   "metadata": {},
   "outputs": [
    {
     "name": "stdout",
     "output_type": "stream",
     "text": [
      "LangChain is an open-source Python library designed to help developers build applications with large language models (LLMs) like GPT-3, GPT-4, and others. Here are key details about LangChain:\n",
      "\n",
      "1. Core Purpose\n",
      "- Simplifies creating complex AI-powered applications\n",
      "- Provides tools and abstractions for working with language models\n",
      "- Enables chaining of different components and operations\n",
      "\n",
      "2. Key Features\n",
      "- Prompt management\n",
      "- Memory and context handling\n",
      "- Integration with multiple LLM providers\n",
      "- Support for different types of chains and agents\n",
      "- Data retrieval and question-answering capabilities\n",
      "- Tool and API integrations\n",
      "\n",
      "3. Main Components\n",
      "- Prompts: Templates and management for generating inputs\n",
      "- Chains: Sequences of operations and model interactions\n",
      "- Agents: Models that can make decisions and use tools\n",
      "- Memory: Storing and retrieving conversation context\n",
      "- Tools: External resources and APIs for model interactions\n",
      "\n",
      "4. Common Use Cases\n",
      "- Conversational AI\n",
      "- Document question-answering\n",
      "- Summarization\n",
      "- Code generation\n",
      "- Research and analysis\n",
      "- Workflow automation\n",
      "\n",
      "5. Supported Models\n",
      "- OpenAI GPT models\n",
      "- Hugging Face models\n",
      "- Google PaLM\n",
      "- Anthropic Claude\n",
      "- And many others\n",
      "\n",
      "LangChain simplifies building sophisticated AI applications by providing a flexible framework for working with language models.\n"
     ]
    }
   ],
   "source": [
    "from dotenv import load_dotenv\n",
    "import os\n",
    "\n",
    "load_dotenv()\n",
    "api_key = os.getenv('API_KEY')\n",
    "\n",
    "llm = ChatAnthropic(\n",
    "    api_key=api_key,\n",
    "    model=\"claude-3-5-haiku-latest\",  # or \"claude-3-5-haiku-20241022\"\n",
    "    temperature=0.0,\n",
    "    max_tokens=1024,\n",
    ")\n",
    "response = llm.invoke(\"What is LangChain?\")\n",
    "print(response.content)"
   ]
  },
  {
   "cell_type": "code",
   "execution_count": null,
   "id": "8c54dfe6",
   "metadata": {},
   "outputs": [],
   "source": []
  }
 ],
 "metadata": {
  "kernelspec": {
   "display_name": "pyenv",
   "language": "python",
   "name": "python3"
  },
  "language_info": {
   "codemirror_mode": {
    "name": "ipython",
    "version": 3
   },
   "file_extension": ".py",
   "mimetype": "text/x-python",
   "name": "python",
   "nbconvert_exporter": "python",
   "pygments_lexer": "ipython3",
   "version": "3.12.3"
  }
 },
 "nbformat": 4,
 "nbformat_minor": 5
}
