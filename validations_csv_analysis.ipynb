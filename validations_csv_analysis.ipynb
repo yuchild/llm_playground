{
 "cells": [
  {
   "cell_type": "markdown",
   "id": "f2847608",
   "metadata": {},
   "source": [
    "#### Load CSV file into Pandas dataset"
   ]
  },
  {
   "cell_type": "code",
   "execution_count": 2,
   "id": "d44b12f5",
   "metadata": {},
   "outputs": [],
   "source": [
    "import pandas as pd"
   ]
  },
  {
   "cell_type": "code",
   "execution_count": 3,
   "id": "002e3a0d",
   "metadata": {},
   "outputs": [
    {
     "data": {
      "text/html": [
       "<div>\n",
       "<style scoped>\n",
       "    .dataframe tbody tr th:only-of-type {\n",
       "        vertical-align: middle;\n",
       "    }\n",
       "\n",
       "    .dataframe tbody tr th {\n",
       "        vertical-align: top;\n",
       "    }\n",
       "\n",
       "    .dataframe thead th {\n",
       "        text-align: right;\n",
       "    }\n",
       "</style>\n",
       "<table border=\"1\" class=\"dataframe\">\n",
       "  <thead>\n",
       "    <tr style=\"text-align: right;\">\n",
       "      <th></th>\n",
       "      <th>TransactionID</th>\n",
       "      <th>CustomerID</th>\n",
       "      <th>CustomerName</th>\n",
       "      <th>ProductID</th>\n",
       "      <th>ProductName</th>\n",
       "      <th>ProductCategory</th>\n",
       "      <th>Quantity</th>\n",
       "      <th>UnitPrice</th>\n",
       "      <th>TotalPrice</th>\n",
       "      <th>TransactionDate</th>\n",
       "    </tr>\n",
       "  </thead>\n",
       "  <tbody>\n",
       "    <tr>\n",
       "      <th>0</th>\n",
       "      <td>107</td>\n",
       "      <td>58</td>\n",
       "      <td>John Doe</td>\n",
       "      <td>203</td>\n",
       "      <td>Green Gadget</td>\n",
       "      <td>Gadgets</td>\n",
       "      <td>4</td>\n",
       "      <td>15.99</td>\n",
       "      <td>63.96</td>\n",
       "      <td>2025-05-09</td>\n",
       "    </tr>\n",
       "    <tr>\n",
       "      <th>1</th>\n",
       "      <td>768</td>\n",
       "      <td>43</td>\n",
       "      <td>Jane Smith</td>\n",
       "      <td>127</td>\n",
       "      <td>Blue Widget</td>\n",
       "      <td>Widgets</td>\n",
       "      <td>2</td>\n",
       "      <td>22.50</td>\n",
       "      <td>45.00</td>\n",
       "      <td>2025-04-15</td>\n",
       "    </tr>\n",
       "    <tr>\n",
       "      <th>2</th>\n",
       "      <td>543</td>\n",
       "      <td>57</td>\n",
       "      <td>Alice Johnson</td>\n",
       "      <td>102</td>\n",
       "      <td>Red Gadget</td>\n",
       "      <td>Gadgets</td>\n",
       "      <td>3</td>\n",
       "      <td>18.75</td>\n",
       "      <td>56.25</td>\n",
       "      <td>2025-05-02</td>\n",
       "    </tr>\n",
       "    <tr>\n",
       "      <th>3</th>\n",
       "      <td>732</td>\n",
       "      <td>45</td>\n",
       "      <td>Mark Stevens</td>\n",
       "      <td>258</td>\n",
       "      <td>Blue Widget</td>\n",
       "      <td>Widgets</td>\n",
       "      <td>4</td>\n",
       "      <td>22.50</td>\n",
       "      <td>90.00</td>\n",
       "      <td>2025-08-15</td>\n",
       "    </tr>\n",
       "    <tr>\n",
       "      <th>4</th>\n",
       "      <td>984</td>\n",
       "      <td>57</td>\n",
       "      <td>Rachel Green</td>\n",
       "      <td>342</td>\n",
       "      <td>Red Gadget</td>\n",
       "      <td>Gadgets</td>\n",
       "      <td>3</td>\n",
       "      <td>15.75</td>\n",
       "      <td>47.25</td>\n",
       "      <td>2025-07-22</td>\n",
       "    </tr>\n",
       "    <tr>\n",
       "      <th>5</th>\n",
       "      <td>245</td>\n",
       "      <td>83</td>\n",
       "      <td>Michael Scott</td>\n",
       "      <td>512</td>\n",
       "      <td>Blue Mug</td>\n",
       "      <td>Kitchenware</td>\n",
       "      <td>2</td>\n",
       "      <td>9.99</td>\n",
       "      <td>19.98</td>\n",
       "      <td>2025-09-16</td>\n",
       "    </tr>\n",
       "    <tr>\n",
       "      <th>6</th>\n",
       "      <td>478</td>\n",
       "      <td>29</td>\n",
       "      <td>Pam Beesly</td>\n",
       "      <td>305</td>\n",
       "      <td>Wireless Mouse</td>\n",
       "      <td>Electronics</td>\n",
       "      <td>3</td>\n",
       "      <td>25.99</td>\n",
       "      <td>77.97</td>\n",
       "      <td>2025-09-17</td>\n",
       "    </tr>\n",
       "    <tr>\n",
       "      <th>7</th>\n",
       "      <td>574</td>\n",
       "      <td>42</td>\n",
       "      <td>Jim Halpert</td>\n",
       "      <td>223</td>\n",
       "      <td>Bluetooth Headphones</td>\n",
       "      <td>Electronics</td>\n",
       "      <td>2</td>\n",
       "      <td>49.99</td>\n",
       "      <td>99.98</td>\n",
       "      <td>2025-10-05</td>\n",
       "    </tr>\n",
       "    <tr>\n",
       "      <th>8</th>\n",
       "      <td>819</td>\n",
       "      <td>34</td>\n",
       "      <td>Pam Beesly</td>\n",
       "      <td>566</td>\n",
       "      <td>Wireless Mouse</td>\n",
       "      <td>Electronics</td>\n",
       "      <td>3</td>\n",
       "      <td>25.75</td>\n",
       "      <td>77.25</td>\n",
       "      <td>2025-10-06</td>\n",
       "    </tr>\n",
       "    <tr>\n",
       "      <th>9</th>\n",
       "      <td>842</td>\n",
       "      <td>62</td>\n",
       "      <td>Michael Scott</td>\n",
       "      <td>453</td>\n",
       "      <td>Office Chair</td>\n",
       "      <td>Furniture</td>\n",
       "      <td>2</td>\n",
       "      <td>150.00</td>\n",
       "      <td>300.00</td>\n",
       "      <td>2025-10-07</td>\n",
       "    </tr>\n",
       "    <tr>\n",
       "      <th>10</th>\n",
       "      <td>927</td>\n",
       "      <td>48</td>\n",
       "      <td>Pam Beesly</td>\n",
       "      <td>312</td>\n",
       "      <td>Notebook</td>\n",
       "      <td>Stationery</td>\n",
       "      <td>5</td>\n",
       "      <td>2.50</td>\n",
       "      <td>12.50</td>\n",
       "      <td>2025-10-07</td>\n",
       "    </tr>\n",
       "    <tr>\n",
       "      <th>11</th>\n",
       "      <td>1023</td>\n",
       "      <td>19</td>\n",
       "      <td>Jim Halpert</td>\n",
       "      <td>453</td>\n",
       "      <td>Coffee Mug</td>\n",
       "      <td>Drinkware</td>\n",
       "      <td>3</td>\n",
       "      <td>8.99</td>\n",
       "      <td>26.97</td>\n",
       "      <td>2025-10-08</td>\n",
       "    </tr>\n",
       "    <tr>\n",
       "      <th>12</th>\n",
       "      <td>2045</td>\n",
       "      <td>37</td>\n",
       "      <td>Pam Beesly</td>\n",
       "      <td>512</td>\n",
       "      <td>Notebook</td>\n",
       "      <td>Stationery</td>\n",
       "      <td>5</td>\n",
       "      <td>3.49</td>\n",
       "      <td>17.45</td>\n",
       "      <td>2025-10-09</td>\n",
       "    </tr>\n",
       "    <tr>\n",
       "      <th>13</th>\n",
       "      <td>4532</td>\n",
       "      <td>86</td>\n",
       "      <td>Jim Halpert</td>\n",
       "      <td>210</td>\n",
       "      <td>Coffee Mug</td>\n",
       "      <td>Kitchenware</td>\n",
       "      <td>8</td>\n",
       "      <td>4.75</td>\n",
       "      <td>38.00</td>\n",
       "      <td>2023-11-05</td>\n",
       "    </tr>\n",
       "    <tr>\n",
       "      <th>14</th>\n",
       "      <td>2013</td>\n",
       "      <td>45</td>\n",
       "      <td>Pam Beesly</td>\n",
       "      <td>512</td>\n",
       "      <td>Office Chair</td>\n",
       "      <td>Furniture</td>\n",
       "      <td>3</td>\n",
       "      <td>125.99</td>\n",
       "      <td>377.97</td>\n",
       "      <td>2023-11-05</td>\n",
       "    </tr>\n",
       "    <tr>\n",
       "      <th>15</th>\n",
       "      <td>5678</td>\n",
       "      <td>23</td>\n",
       "      <td>Michael Scott</td>\n",
       "      <td>432</td>\n",
       "      <td>Wireless Mouse</td>\n",
       "      <td>Electronics</td>\n",
       "      <td>5</td>\n",
       "      <td>29.99</td>\n",
       "      <td>149.95</td>\n",
       "      <td>2023-11-05</td>\n",
       "    </tr>\n",
       "    <tr>\n",
       "      <th>16</th>\n",
       "      <td>1234</td>\n",
       "      <td>56</td>\n",
       "      <td>Alice Johnson</td>\n",
       "      <td>789</td>\n",
       "      <td>Bluetooth Headphones</td>\n",
       "      <td>Audio</td>\n",
       "      <td>3</td>\n",
       "      <td>89.99</td>\n",
       "      <td>269.97</td>\n",
       "      <td>2023-10-10</td>\n",
       "    </tr>\n",
       "    <tr>\n",
       "      <th>17</th>\n",
       "      <td>3256</td>\n",
       "      <td>42</td>\n",
       "      <td>Michael Smith</td>\n",
       "      <td>678</td>\n",
       "      <td>Wireless Mouse</td>\n",
       "      <td>Computers</td>\n",
       "      <td>1</td>\n",
       "      <td>49.99</td>\n",
       "      <td>49.99</td>\n",
       "      <td>2023-10-12</td>\n",
       "    </tr>\n",
       "    <tr>\n",
       "      <th>18</th>\n",
       "      <td>1357</td>\n",
       "      <td>89</td>\n",
       "      <td>Anna Johnson</td>\n",
       "      <td>234</td>\n",
       "      <td>Bluetooth Headphones</td>\n",
       "      <td>Electronics</td>\n",
       "      <td>2</td>\n",
       "      <td>79.99</td>\n",
       "      <td>159.98</td>\n",
       "      <td>2023-10-12</td>\n",
       "    </tr>\n",
       "    <tr>\n",
       "      <th>19</th>\n",
       "      <td>9263</td>\n",
       "      <td>45</td>\n",
       "      <td>Michael Smith</td>\n",
       "      <td>678</td>\n",
       "      <td>Smart Watch</td>\n",
       "      <td>Wearables</td>\n",
       "      <td>3</td>\n",
       "      <td>199.99</td>\n",
       "      <td>599.97</td>\n",
       "      <td>2023-10-11</td>\n",
       "    </tr>\n",
       "  </tbody>\n",
       "</table>\n",
       "</div>"
      ],
      "text/plain": [
       "    TransactionID  CustomerID   CustomerName  ProductID           ProductName  \\\n",
       "0             107          58       John Doe        203          Green Gadget   \n",
       "1             768          43     Jane Smith        127           Blue Widget   \n",
       "2             543          57  Alice Johnson        102            Red Gadget   \n",
       "3             732          45   Mark Stevens        258           Blue Widget   \n",
       "4             984          57   Rachel Green        342            Red Gadget   \n",
       "5             245          83  Michael Scott        512              Blue Mug   \n",
       "6             478          29     Pam Beesly        305        Wireless Mouse   \n",
       "7             574          42    Jim Halpert        223  Bluetooth Headphones   \n",
       "8             819          34     Pam Beesly        566        Wireless Mouse   \n",
       "9             842          62  Michael Scott        453          Office Chair   \n",
       "10            927          48     Pam Beesly        312              Notebook   \n",
       "11           1023          19    Jim Halpert        453            Coffee Mug   \n",
       "12           2045          37     Pam Beesly        512              Notebook   \n",
       "13           4532          86    Jim Halpert        210            Coffee Mug   \n",
       "14           2013          45     Pam Beesly        512          Office Chair   \n",
       "15           5678          23  Michael Scott        432        Wireless Mouse   \n",
       "16           1234          56  Alice Johnson        789  Bluetooth Headphones   \n",
       "17           3256          42  Michael Smith        678        Wireless Mouse   \n",
       "18           1357          89   Anna Johnson        234  Bluetooth Headphones   \n",
       "19           9263          45  Michael Smith        678           Smart Watch   \n",
       "\n",
       "   ProductCategory  Quantity  UnitPrice  TotalPrice TransactionDate  \n",
       "0          Gadgets         4      15.99       63.96      2025-05-09  \n",
       "1          Widgets         2      22.50       45.00      2025-04-15  \n",
       "2          Gadgets         3      18.75       56.25      2025-05-02  \n",
       "3          Widgets         4      22.50       90.00      2025-08-15  \n",
       "4          Gadgets         3      15.75       47.25      2025-07-22  \n",
       "5      Kitchenware         2       9.99       19.98      2025-09-16  \n",
       "6      Electronics         3      25.99       77.97      2025-09-17  \n",
       "7      Electronics         2      49.99       99.98      2025-10-05  \n",
       "8      Electronics         3      25.75       77.25      2025-10-06  \n",
       "9        Furniture         2     150.00      300.00      2025-10-07  \n",
       "10      Stationery         5       2.50       12.50      2025-10-07  \n",
       "11       Drinkware         3       8.99       26.97      2025-10-08  \n",
       "12      Stationery         5       3.49       17.45      2025-10-09  \n",
       "13     Kitchenware         8       4.75       38.00      2023-11-05  \n",
       "14       Furniture         3     125.99      377.97      2023-11-05  \n",
       "15     Electronics         5      29.99      149.95      2023-11-05  \n",
       "16           Audio         3      89.99      269.97      2023-10-10  \n",
       "17       Computers         1      49.99       49.99      2023-10-12  \n",
       "18     Electronics         2      79.99      159.98      2023-10-12  \n",
       "19       Wearables         3     199.99      599.97      2023-10-11  "
      ]
     },
     "execution_count": 3,
     "metadata": {},
     "output_type": "execute_result"
    }
   ],
   "source": [
    "data = pd.read_csv('./data/generated_data.csv')\n",
    "data"
   ]
  },
  {
   "cell_type": "code",
   "execution_count": 7,
   "id": "d3a6267d",
   "metadata": {},
   "outputs": [
    {
     "data": {
      "text/plain": [
       "Index(['TransactionID', 'CustomerID', 'CustomerName', 'ProductID',\n",
       "       'ProductName', 'ProductCategory', 'Quantity', 'UnitPrice', 'TotalPrice',\n",
       "       'TransactionDate'],\n",
       "      dtype='object')"
      ]
     },
     "execution_count": 7,
     "metadata": {},
     "output_type": "execute_result"
    }
   ],
   "source": [
    "data.columns"
   ]
  },
  {
   "cell_type": "markdown",
   "id": "540096f1",
   "metadata": {},
   "source": [
    "### Generate pandas Code with LangChain OpenAI Python SDK"
   ]
  },
  {
   "cell_type": "code",
   "execution_count": 4,
   "id": "bfa65627",
   "metadata": {},
   "outputs": [],
   "source": [
    "from langchain_openai import ChatOpenAI\n",
    "from dotenv import load_dotenv\n",
    "import os\n",
    "load_dotenv()\n",
    "\n",
    "openai_api_key = os.getenv(\"OPENAI_API_KEY\")\n",
    "\n",
    "llm = ChatOpenAI(\n",
    "    model=\"gpt-4o-mini-2024-07-18\",\n",
    "    api_key=openai_api_key,\n",
    ")"
   ]
  },
  {
   "cell_type": "code",
   "execution_count": 10,
   "id": "b8fac9a5",
   "metadata": {},
   "outputs": [
    {
     "name": "stdout",
     "output_type": "stream",
     "text": [
      "content=\"```python\\nimport pandas as pd\\n\\n# Assuming 'data' is your DataFrame\\ncorrelation = data['Quantity'].corr(data['UnitPrice'])\\ncorrelation\\n```\" additional_kwargs={'refusal': None} response_metadata={'token_usage': {'completion_tokens': 36, 'prompt_tokens': 93, 'total_tokens': 129, 'completion_tokens_details': {'accepted_prediction_tokens': 0, 'audio_tokens': 0, 'reasoning_tokens': 0, 'rejected_prediction_tokens': 0}, 'prompt_tokens_details': {'audio_tokens': 0, 'cached_tokens': 0}}, 'model_name': 'gpt-4o-mini-2024-07-18', 'system_fingerprint': 'fp_dbaca60df0', 'id': 'chatcmpl-BVvCvbxd9mwlUs0ZDLZlGv81un75H', 'service_tier': 'default', 'finish_reason': 'stop', 'logprobs': None} id='run--035a9c12-2e1f-4381-857b-fa17f1886b66-0' usage_metadata={'input_tokens': 93, 'output_tokens': 36, 'total_tokens': 129, 'input_token_details': {'audio': 0, 'cache_read': 0}, 'output_token_details': {'audio': 0, 'reasoning': 0}}\n"
     ]
    }
   ],
   "source": [
    "result = llm.invoke(\n",
    "    \"\"\"\n",
    "I have a pandas dataframe in a variable called data.\n",
    "Write code to compute correlation between columns.\n",
    "The columns present are: ['TransactionID', 'CustomerID', 'CustomerName', 'ProductID',\n",
    "       'ProductName', 'ProductCategory', 'Quantity', 'UnitPrice', 'TotalPrice',\n",
    "       'TransactionDate'].\n",
    "I need correlation between columns Quantity and UnitPrice.\n",
    "Return Markdown for python and nothing else.dd\n",
    "\"\"\"\n",
    ")\n",
    "print(result)"
   ]
  },
  {
   "cell_type": "code",
   "execution_count": 11,
   "id": "3ea34e53",
   "metadata": {},
   "outputs": [
    {
     "name": "stdout",
     "output_type": "stream",
     "text": [
      "```python\n",
      "import pandas as pd\n",
      "\n",
      "# Assuming 'data' is your DataFrame\n",
      "correlation = data['Quantity'].corr(data['UnitPrice'])\n",
      "correlation\n",
      "```\n"
     ]
    }
   ],
   "source": [
    "print(result.content)"
   ]
  },
  {
   "cell_type": "code",
   "execution_count": 12,
   "id": "71e8f228",
   "metadata": {},
   "outputs": [
    {
     "data": {
      "text/plain": [
       "np.float64(-0.3482576603344716)"
      ]
     },
     "execution_count": 12,
     "metadata": {},
     "output_type": "execute_result"
    }
   ],
   "source": [
    "import pandas as pd\n",
    "\n",
    "# Assuming 'data' is your DataFrame\n",
    "correlation = data['Quantity'].corr(data['UnitPrice'])\n",
    "correlation"
   ]
  },
  {
   "cell_type": "markdown",
   "id": "7da748a6",
   "metadata": {},
   "source": [
    "#### Build function cell to use python LangChain Tool"
   ]
  },
  {
   "cell_type": "code",
   "execution_count": 13,
   "id": "6c390f31",
   "metadata": {},
   "outputs": [
    {
     "name": "stdout",
     "output_type": "stream",
     "text": [
      "globals={} locals={'df':     TransactionID  CustomerID   CustomerName  ProductID           ProductName  \\\n",
      "0             107          58       John Doe        203          Green Gadget   \n",
      "1             768          43     Jane Smith        127           Blue Widget   \n",
      "2             543          57  Alice Johnson        102            Red Gadget   \n",
      "3             732          45   Mark Stevens        258           Blue Widget   \n",
      "4             984          57   Rachel Green        342            Red Gadget   \n",
      "5             245          83  Michael Scott        512              Blue Mug   \n",
      "6             478          29     Pam Beesly        305        Wireless Mouse   \n",
      "7             574          42    Jim Halpert        223  Bluetooth Headphones   \n",
      "8             819          34     Pam Beesly        566        Wireless Mouse   \n",
      "9             842          62  Michael Scott        453          Office Chair   \n",
      "10            927          48     Pam Beesly        312              Notebook   \n",
      "11           1023          19    Jim Halpert        453            Coffee Mug   \n",
      "12           2045          37     Pam Beesly        512              Notebook   \n",
      "13           4532          86    Jim Halpert        210            Coffee Mug   \n",
      "14           2013          45     Pam Beesly        512          Office Chair   \n",
      "15           5678          23  Michael Scott        432        Wireless Mouse   \n",
      "16           1234          56  Alice Johnson        789  Bluetooth Headphones   \n",
      "17           3256          42  Michael Smith        678        Wireless Mouse   \n",
      "18           1357          89   Anna Johnson        234  Bluetooth Headphones   \n",
      "19           9263          45  Michael Smith        678           Smart Watch   \n",
      "\n",
      "   ProductCategory  Quantity  UnitPrice  TotalPrice TransactionDate  \n",
      "0          Gadgets         4      15.99       63.96      2025-05-09  \n",
      "1          Widgets         2      22.50       45.00      2025-04-15  \n",
      "2          Gadgets         3      18.75       56.25      2025-05-02  \n",
      "3          Widgets         4      22.50       90.00      2025-08-15  \n",
      "4          Gadgets         3      15.75       47.25      2025-07-22  \n",
      "5      Kitchenware         2       9.99       19.98      2025-09-16  \n",
      "6      Electronics         3      25.99       77.97      2025-09-17  \n",
      "7      Electronics         2      49.99       99.98      2025-10-05  \n",
      "8      Electronics         3      25.75       77.25      2025-10-06  \n",
      "9        Furniture         2     150.00      300.00      2025-10-07  \n",
      "10      Stationery         5       2.50       12.50      2025-10-07  \n",
      "11       Drinkware         3       8.99       26.97      2025-10-08  \n",
      "12      Stationery         5       3.49       17.45      2025-10-09  \n",
      "13     Kitchenware         8       4.75       38.00      2023-11-05  \n",
      "14       Furniture         3     125.99      377.97      2023-11-05  \n",
      "15     Electronics         5      29.99      149.95      2023-11-05  \n",
      "16           Audio         3      89.99      269.97      2023-10-10  \n",
      "17       Computers         1      49.99       49.99      2023-10-12  \n",
      "18     Electronics         2      79.99      159.98      2023-10-12  \n",
      "19       Wearables         3     199.99      599.97      2023-10-11  }\n"
     ]
    }
   ],
   "source": [
    "from langchain_experimental.tools import PythonAstREPLTool\n",
    "tool = PythonAstREPLTool(locals = {\n",
    "    \"df\": data,\n",
    "})\n",
    "\n",
    "print(tool)\n"
   ]
  },
  {
   "cell_type": "code",
   "execution_count": 14,
   "id": "49e78876",
   "metadata": {},
   "outputs": [
    {
     "data": {
      "text/plain": [
       "np.float64(3.3)"
      ]
     },
     "execution_count": 14,
     "metadata": {},
     "output_type": "execute_result"
    }
   ],
   "source": [
    "tool.invoke(\"df['Quantity'].mean()\")"
   ]
  },
  {
   "cell_type": "code",
   "execution_count": 16,
   "id": "d9fac78a",
   "metadata": {},
   "outputs": [
    {
     "name": "stdout",
     "output_type": "stream",
     "text": [
      "bound=ChatOpenAI(client=<openai.resources.chat.completions.completions.Completions object at 0x73777e5ad130>, async_client=<openai.resources.chat.completions.completions.AsyncCompletions object at 0x73777ddc1880>, root_client=<openai.OpenAI object at 0x73777e676ed0>, root_async_client=<openai.AsyncOpenAI object at 0x73777dd9eff0>, model_name='gpt-4o-mini-2024-07-18', model_kwargs={}, openai_api_key=SecretStr('**********')) kwargs={'tools': [{'type': 'function', 'function': {'name': 'python_repl_ast', 'description': 'A Python shell. Use this to execute python commands. Input should be a valid python command. When using this tool, sometimes output is abbreviated - make sure it does not look abbreviated before using it in your answer.', 'parameters': {'properties': {'query': {'description': 'code snippet to run', 'type': 'string'}}, 'required': ['query'], 'type': 'object'}}}], 'tool_choice': {'type': 'function', 'function': {'name': 'python_repl_ast'}}} config={} config_factories=[]\n"
     ]
    }
   ],
   "source": [
    "llm_with_tools = llm.bind_tools(\n",
    "    [tool],\n",
    "    tool_choice=tool.name\n",
    "    )\n",
    "print(llm_with_tools)"
   ]
  },
  {
   "cell_type": "code",
   "execution_count": 18,
   "id": "0be49028",
   "metadata": {},
   "outputs": [
    {
     "name": "stdout",
     "output_type": "stream",
     "text": [
      "content='' additional_kwargs={'tool_calls': [{'id': 'call_edvAxOGjYRHSeDPtRGTaVc7f', 'function': {'arguments': '{\"query\":\"# Assuming \\'data\\' is a pandas DataFrame\\\\nimport pandas as pd\\\\n\\\\n# Sample DataFrame creation for demonstration\\\\n# data = pd.DataFrame({\\'Quantity\\': [10, 20, 15, 40], \\'UnitPrice\\': [5.0, 7.5, 6.0, 10.0]})\\\\n\\\\n# Calculate the correlation between \\'Quantity\\' and \\'UnitPrice\\'\\\\ncorrelation = data[\\'Quantity\\'].corr(data[\\'UnitPrice\\'])\\\\ncorrelation\"}', 'name': 'python_repl_ast'}, 'type': 'function'}], 'refusal': None} response_metadata={'token_usage': {'completion_tokens': 110, 'prompt_tokens': 118, 'total_tokens': 228, 'completion_tokens_details': {'accepted_prediction_tokens': 0, 'audio_tokens': 0, 'reasoning_tokens': 0, 'rejected_prediction_tokens': 0}, 'prompt_tokens_details': {'audio_tokens': 0, 'cached_tokens': 0}}, 'model_name': 'gpt-4o-mini-2024-07-18', 'system_fingerprint': 'fp_0392822090', 'id': 'chatcmpl-BWGXqU8bY9FAvUfCWx7QooyVOkMZt', 'service_tier': 'default', 'finish_reason': 'stop', 'logprobs': None} id='run--5785dff3-92fc-4f7d-b5b4-973ef563f9fc-0' tool_calls=[{'name': 'python_repl_ast', 'args': {'query': \"# Assuming 'data' is a pandas DataFrame\\nimport pandas as pd\\n\\n# Sample DataFrame creation for demonstration\\n# data = pd.DataFrame({'Quantity': [10, 20, 15, 40], 'UnitPrice': [5.0, 7.5, 6.0, 10.0]})\\n\\n# Calculate the correlation between 'Quantity' and 'UnitPrice'\\ncorrelation = data['Quantity'].corr(data['UnitPrice'])\\ncorrelation\"}, 'id': 'call_edvAxOGjYRHSeDPtRGTaVc7f', 'type': 'tool_call'}] usage_metadata={'input_tokens': 118, 'output_tokens': 110, 'total_tokens': 228, 'input_token_details': {'audio': 0, 'cache_read': 0}, 'output_token_details': {'audio': 0, 'reasoning': 0}}\n"
     ]
    }
   ],
   "source": [
    "print(llm_with_tools.invoke(\"I have a dataframe 'data' and want to know the correlation between Quantity and UnitPrice columns\"))"
   ]
  },
  {
   "cell_type": "code",
   "execution_count": 19,
   "id": "4daaff9f",
   "metadata": {},
   "outputs": [
    {
     "name": "stdout",
     "output_type": "stream",
     "text": [
      "first_tool_only=True key_name='python_repl_ast'\n"
     ]
    }
   ],
   "source": [
    "from langchain.output_parsers.openai_tools import JsonOutputKeyToolsParser\n",
    "\n",
    "parser = JsonOutputKeyToolsParser(key_name=tool.name,\n",
    "                                  first_tool_only=True)\n",
    "\n",
    "print(parser)"
   ]
  },
  {
   "cell_type": "code",
   "execution_count": null,
   "id": "76f2b23d",
   "metadata": {},
   "outputs": [
    {
     "name": "stdout",
     "output_type": "stream",
     "text": [
      "{'query': \"correlation = data['Quantity'].corr(data['UnitPrice'])\\ncorrelation\"}\n"
     ]
    }
   ],
   "source": [
    "print((llm_with_tools | parser).invoke(\"\"\"Q: I have a dataframe 'data' and want to know the correlation between Quantity and UnitPrice columns.\n",
    "A: {'query': \"data[['Quantity', 'UnitPrice']].corr()\"}\n",
    "Q: I have a dataframe 'data' and want to know correlation between UnitPrice and TotalPrice\n",
    "                                       \"\"\"\n",
    "))"
   ]
  },
  {
   "cell_type": "code",
   "execution_count": 23,
   "id": "257c15f8",
   "metadata": {},
   "outputs": [
    {
     "name": "stdout",
     "output_type": "stream",
     "text": [
      "           Quantity  UnitPrice\n",
      "Quantity   1.000000  -0.348258\n",
      "UnitPrice -0.348258   1.000000\n"
     ]
    }
   ],
   "source": [
    "print(data[['Quantity','UnitPrice']].corr())"
   ]
  },
  {
   "cell_type": "markdown",
   "id": "4a278e13",
   "metadata": {},
   "source": [
    "#### Build Chain to Automate LangChain Tool Use"
   ]
  },
  {
   "cell_type": "code",
   "execution_count": 28,
   "id": "f98d8405",
   "metadata": {},
   "outputs": [],
   "source": [
    "from langchain_core.prompts import ChatPromptTemplate"
   ]
  },
  {
   "cell_type": "code",
   "execution_count": null,
   "id": "3fd96318",
   "metadata": {},
   "outputs": [
    {
     "name": "stdout",
     "output_type": "stream",
     "text": [
      "Collecting tabulate\n",
      "  Downloading tabulate-0.9.0-py3-none-any.whl.metadata (34 kB)\n",
      "Downloading tabulate-0.9.0-py3-none-any.whl (35 kB)\n",
      "Installing collected packages: tabulate\n",
      "Successfully installed tabulate-0.9.0\n"
     ]
    }
   ],
   "source": [
    "!pip install tabulate # needed for f\"\"\"{table}\"\"\")"
   ]
  },
  {
   "cell_type": "code",
   "execution_count": 33,
   "id": "f13b9a7d",
   "metadata": {},
   "outputs": [],
   "source": [
    "system = f\"\"\"\n",
    "You have access to a Pandas dataframe known as 'data'. Here is the outp of 'data.head().to_markdown()':\n",
    "{data.head().to_markdown()}\n",
    "Given a user, question write the Python code to answer it.\n",
    "Return only the valid Python code and nothing else.\n",
    "Don't use any libraries other than built-in Python and Pandas.\n",
    "\"\"\""
   ]
  },
  {
   "cell_type": "code",
   "execution_count": 34,
   "id": "ea0b34f6",
   "metadata": {},
   "outputs": [
    {
     "name": "stdout",
     "output_type": "stream",
     "text": [
      "\n",
      "You have access to a Pandas dataframe known as 'data'. Here is the outp of 'data.head().to_markdown()':\n",
      "|    |   TransactionID |   CustomerID | CustomerName   |   ProductID | ProductName   | ProductCategory   |   Quantity |   UnitPrice |   TotalPrice | TransactionDate   |\n",
      "|---:|----------------:|-------------:|:---------------|------------:|:--------------|:------------------|-----------:|------------:|-------------:|:------------------|\n",
      "|  0 |             107 |           58 | John Doe       |         203 | Green Gadget  | Gadgets           |          4 |       15.99 |        63.96 | 2025-05-09        |\n",
      "|  1 |             768 |           43 | Jane Smith     |         127 | Blue Widget   | Widgets           |          2 |       22.5  |        45    | 2025-04-15        |\n",
      "|  2 |             543 |           57 | Alice Johnson  |         102 | Red Gadget    | Gadgets           |          3 |       18.75 |        56.25 | 2025-05-02        |\n",
      "|  3 |             732 |           45 | Mark Stevens   |         258 | Blue Widget   | Widgets           |          4 |       22.5  |        90    | 2025-08-15        |\n",
      "|  4 |             984 |           57 | Rachel Green   |         342 | Red Gadget    | Gadgets           |          3 |       15.75 |        47.25 | 2025-07-22        |\n",
      "Given a user, question write the Python code to answer it.\n",
      "Return only the valid Python code and nothing else.\n",
      "Don't use any libraries other than built-in Python and Pandas.\n",
      "\n"
     ]
    }
   ],
   "source": [
    "print(system)"
   ]
  },
  {
   "cell_type": "code",
   "execution_count": 36,
   "id": "135870bf",
   "metadata": {},
   "outputs": [],
   "source": [
    "prompt = ChatPromptTemplate.from_messages([\n",
    "    (\"system\", system),\n",
    "    (\"human\", \"{question}\"),\n",
    "    \n",
    "])"
   ]
  },
  {
   "cell_type": "code",
   "execution_count": 37,
   "id": "5a75e024",
   "metadata": {},
   "outputs": [
    {
     "name": "stdout",
     "output_type": "stream",
     "text": [
      "input_variables=['question'] input_types={} partial_variables={} messages=[SystemMessagePromptTemplate(prompt=PromptTemplate(input_variables=[], input_types={}, partial_variables={}, template=\"\\nYou have access to a Pandas dataframe known as 'data'. Here is the outp of 'data.head().to_markdown()':\\n|    |   TransactionID |   CustomerID | CustomerName   |   ProductID | ProductName   | ProductCategory   |   Quantity |   UnitPrice |   TotalPrice | TransactionDate   |\\n|---:|----------------:|-------------:|:---------------|------------:|:--------------|:------------------|-----------:|------------:|-------------:|:------------------|\\n|  0 |             107 |           58 | John Doe       |         203 | Green Gadget  | Gadgets           |          4 |       15.99 |        63.96 | 2025-05-09        |\\n|  1 |             768 |           43 | Jane Smith     |         127 | Blue Widget   | Widgets           |          2 |       22.5  |        45    | 2025-04-15        |\\n|  2 |             543 |           57 | Alice Johnson  |         102 | Red Gadget    | Gadgets           |          3 |       18.75 |        56.25 | 2025-05-02        |\\n|  3 |             732 |           45 | Mark Stevens   |         258 | Blue Widget   | Widgets           |          4 |       22.5  |        90    | 2025-08-15        |\\n|  4 |             984 |           57 | Rachel Green   |         342 | Red Gadget    | Gadgets           |          3 |       15.75 |        47.25 | 2025-07-22        |\\nGiven a user, question write the Python code to answer it.\\nReturn only the valid Python code and nothing else.\\nDon't use any libraries other than built-in Python and Pandas.\\n\"), additional_kwargs={}), HumanMessagePromptTemplate(prompt=PromptTemplate(input_variables=['question'], input_types={}, partial_variables={}, template='{question}'), additional_kwargs={})]\n"
     ]
    }
   ],
   "source": [
    "print(prompt)"
   ]
  },
  {
   "cell_type": "code",
   "execution_count": 38,
   "id": "0c9284ef",
   "metadata": {},
   "outputs": [
    {
     "name": "stdout",
     "output_type": "stream",
     "text": [
      "first=ChatPromptTemplate(input_variables=['question'], input_types={}, partial_variables={}, messages=[SystemMessagePromptTemplate(prompt=PromptTemplate(input_variables=[], input_types={}, partial_variables={}, template=\"\\nYou have access to a Pandas dataframe known as 'data'. Here is the outp of 'data.head().to_markdown()':\\n|    |   TransactionID |   CustomerID | CustomerName   |   ProductID | ProductName   | ProductCategory   |   Quantity |   UnitPrice |   TotalPrice | TransactionDate   |\\n|---:|----------------:|-------------:|:---------------|------------:|:--------------|:------------------|-----------:|------------:|-------------:|:------------------|\\n|  0 |             107 |           58 | John Doe       |         203 | Green Gadget  | Gadgets           |          4 |       15.99 |        63.96 | 2025-05-09        |\\n|  1 |             768 |           43 | Jane Smith     |         127 | Blue Widget   | Widgets           |          2 |       22.5  |        45    | 2025-04-15        |\\n|  2 |             543 |           57 | Alice Johnson  |         102 | Red Gadget    | Gadgets           |          3 |       18.75 |        56.25 | 2025-05-02        |\\n|  3 |             732 |           45 | Mark Stevens   |         258 | Blue Widget   | Widgets           |          4 |       22.5  |        90    | 2025-08-15        |\\n|  4 |             984 |           57 | Rachel Green   |         342 | Red Gadget    | Gadgets           |          3 |       15.75 |        47.25 | 2025-07-22        |\\nGiven a user, question write the Python code to answer it.\\nReturn only the valid Python code and nothing else.\\nDon't use any libraries other than built-in Python and Pandas.\\n\"), additional_kwargs={}), HumanMessagePromptTemplate(prompt=PromptTemplate(input_variables=['question'], input_types={}, partial_variables={}, template='{question}'), additional_kwargs={})]) middle=[RunnableBinding(bound=ChatOpenAI(client=<openai.resources.chat.completions.completions.Completions object at 0x73777e5ad130>, async_client=<openai.resources.chat.completions.completions.AsyncCompletions object at 0x73777ddc1880>, root_client=<openai.OpenAI object at 0x73777e676ed0>, root_async_client=<openai.AsyncOpenAI object at 0x73777dd9eff0>, model_name='gpt-4o-mini-2024-07-18', model_kwargs={}, openai_api_key=SecretStr('**********')), kwargs={'tools': [{'type': 'function', 'function': {'name': 'python_repl_ast', 'description': 'A Python shell. Use this to execute python commands. Input should be a valid python command. When using this tool, sometimes output is abbreviated - make sure it does not look abbreviated before using it in your answer.', 'parameters': {'properties': {'query': {'description': 'code snippet to run', 'type': 'string'}}, 'required': ['query'], 'type': 'object'}}}], 'tool_choice': {'type': 'function', 'function': {'name': 'python_repl_ast'}}}, config={}, config_factories=[])] last=JsonOutputKeyToolsParser(first_tool_only=True, key_name='python_repl_ast')\n"
     ]
    }
   ],
   "source": [
    "code_chain = prompt | llm_with_tools | parser\n",
    "print(code_chain)"
   ]
  },
  {
   "cell_type": "code",
   "execution_count": 41,
   "id": "0f74c2fb",
   "metadata": {},
   "outputs": [
    {
     "data": {
      "text/plain": [
       "{'query': \"data['Quantity'].corr(data['UnitPrice'])\"}"
      ]
     },
     "execution_count": 41,
     "metadata": {},
     "output_type": "execute_result"
    }
   ],
   "source": [
    "code_chain.invoke(\n",
    "    {\n",
    "        \"question\": \"What is the correlation between Quantity and UnitPrice?\"\n",
    "    }\n",
    ")"
   ]
  },
  {
   "cell_type": "code",
   "execution_count": 42,
   "id": "6a64d27b",
   "metadata": {},
   "outputs": [
    {
     "name": "stdout",
     "output_type": "stream",
     "text": [
      "-0.3482576603344716\n"
     ]
    }
   ],
   "source": [
    "print(data['Quantity'].corr(data['UnitPrice']))"
   ]
  },
  {
   "cell_type": "code",
   "execution_count": 43,
   "id": "6c6cfef4",
   "metadata": {},
   "outputs": [],
   "source": [
    "tool = PythonAstREPLTool(\n",
    "    locals = {\n",
    "        \"data\": data\n",
    "    }\n",
    ")"
   ]
  },
  {
   "cell_type": "code",
   "execution_count": 44,
   "id": "5c578c0d",
   "metadata": {},
   "outputs": [
    {
     "data": {
      "text/plain": [
       "np.float64(-0.3482576603344716)"
      ]
     },
     "execution_count": 44,
     "metadata": {},
     "output_type": "execute_result"
    }
   ],
   "source": [
    "code_chain = prompt | llm_with_tools | parser | tool \n",
    "\n",
    "code_chain.invoke(\n",
    "    {\n",
    "        \"question\": \"What is the correlation between Quantity and UnitPrice?\"\n",
    "    }\n",
    ")"
   ]
  },
  {
   "cell_type": "code",
   "execution_count": null,
   "id": "6347de10",
   "metadata": {},
   "outputs": [],
   "source": []
  }
 ],
 "metadata": {
  "kernelspec": {
   "display_name": "pyenv",
   "language": "python",
   "name": "python3"
  },
  "language_info": {
   "codemirror_mode": {
    "name": "ipython",
    "version": 3
   },
   "file_extension": ".py",
   "mimetype": "text/x-python",
   "name": "python",
   "nbconvert_exporter": "python",
   "pygments_lexer": "ipython3",
   "version": "3.12.3"
  }
 },
 "nbformat": 4,
 "nbformat_minor": 5
}
