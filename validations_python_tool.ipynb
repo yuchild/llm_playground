{
 "cells": [
  {
   "cell_type": "markdown",
   "id": "a1761845",
   "metadata": {},
   "source": [
    "### Biuld a tool with LangChain Python SDK"
   ]
  },
  {
   "cell_type": "code",
   "execution_count": 1,
   "id": "cd936ff6",
   "metadata": {},
   "outputs": [],
   "source": [
    "from langchain_core.tools import tool"
   ]
  },
  {
   "cell_type": "markdown",
   "id": "b09cf623",
   "metadata": {},
   "source": [
    "##"
   ]
  },
  {
   "cell_type": "code",
   "execution_count": 4,
   "id": "364407f3",
   "metadata": {},
   "outputs": [],
   "source": [
    "@tool\n",
    "def sum_even_odd(a: int, b: int) -> str:\n",
    "    \"\"\"\"This is a function that takes two integers and returns their sum if both are even or odd.\"\"\"\n",
    "    total = a + b\n",
    "    if total % 2 == 0:\n",
    "        return \"Even\" \n",
    "    else: \n",
    "        return \"Odd\""
   ]
  },
  {
   "cell_type": "code",
   "execution_count": 5,
   "id": "c1dfdbeb",
   "metadata": {},
   "outputs": [
    {
     "name": "stdout",
     "output_type": "stream",
     "text": [
      "name='sum_even_odd' description='\"This is a function that takes two integers and returns their sum if both are even or odd.' args_schema=<class 'langchain_core.utils.pydantic.sum_even_odd'> func=<function sum_even_odd at 0x7c8933be80e0>\n"
     ]
    }
   ],
   "source": [
    "print(sum_even_odd)"
   ]
  },
  {
   "cell_type": "code",
   "execution_count": 6,
   "id": "1711fba2",
   "metadata": {},
   "outputs": [
    {
     "name": "stdout",
     "output_type": "stream",
     "text": [
      "\"This is a function that takes two integers and returns their sum if both are even or odd.\n"
     ]
    }
   ],
   "source": [
    "print(sum_even_odd.description)"
   ]
  },
  {
   "cell_type": "code",
   "execution_count": 7,
   "id": "fbe01744",
   "metadata": {},
   "outputs": [
    {
     "name": "stdout",
     "output_type": "stream",
     "text": [
      "{'a': {'title': 'A', 'type': 'integer'}, 'b': {'title': 'B', 'type': 'integer'}}\n"
     ]
    }
   ],
   "source": [
    "print(sum_even_odd.args)"
   ]
  },
  {
   "cell_type": "code",
   "execution_count": 8,
   "id": "4063d302",
   "metadata": {},
   "outputs": [
    {
     "name": "stdout",
     "output_type": "stream",
     "text": [
      "Even\n"
     ]
    }
   ],
   "source": [
    "print(sum_even_odd.invoke({\n",
    "    \"a\": 10,\n",
    "    \"b\": 2\n",
    "}))"
   ]
  },
  {
   "cell_type": "markdown",
   "id": "58f984f4",
   "metadata": {},
   "source": [
    "### Build tool functionc alling LangChain OpenAI Python SDK"
   ]
  },
  {
   "cell_type": "code",
   "execution_count": 9,
   "id": "9e871c25",
   "metadata": {},
   "outputs": [],
   "source": [
    "from langchain_openai import ChatOpenAI\n",
    "from dotenv import load_dotenv\n",
    "import os\n",
    "load_dotenv()\n",
    "\n",
    "openai_api_key = os.getenv(\"OPENAI_API_KEY\")\n",
    "\n",
    "client = ChatOpenAI(\n",
    "    model=\"gpt-4o-mini-2024-07-18\",\n",
    "    api_key=openai_api_key,\n",
    ")"
   ]
  },
  {
   "cell_type": "code",
   "execution_count": null,
   "id": "b3dd83bc",
   "metadata": {},
   "outputs": [],
   "source": []
  }
 ],
 "metadata": {
  "kernelspec": {
   "display_name": "pyenv",
   "language": "python",
   "name": "python3"
  },
  "language_info": {
   "codemirror_mode": {
    "name": "ipython",
    "version": 3
   },
   "file_extension": ".py",
   "mimetype": "text/x-python",
   "name": "python",
   "nbconvert_exporter": "python",
   "pygments_lexer": "ipython3",
   "version": "3.12.3"
  }
 },
 "nbformat": 4,
 "nbformat_minor": 5
}
