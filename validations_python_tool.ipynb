{
 "cells": [
  {
   "cell_type": "markdown",
   "id": "a1761845",
   "metadata": {},
   "source": [
    "### Biuld a tool with LangChain Python SDK"
   ]
  },
  {
   "cell_type": "code",
   "execution_count": 1,
   "id": "cd936ff6",
   "metadata": {},
   "outputs": [],
   "source": [
    "from langchain_core.tools import tool"
   ]
  },
  {
   "cell_type": "markdown",
   "id": "b09cf623",
   "metadata": {},
   "source": [
    "##"
   ]
  },
  {
   "cell_type": "code",
   "execution_count": 4,
   "id": "364407f3",
   "metadata": {},
   "outputs": [],
   "source": [
    "@tool\n",
    "def sum_even_odd(a: int, b: int) -> str:\n",
    "    \"\"\"\"This is a function that takes two integers and returns their sum if both are even or odd.\"\"\"\n",
    "    total = a + b\n",
    "    if total % 2 == 0:\n",
    "        return \"Even\" \n",
    "    else: \n",
    "        return \"Odd\""
   ]
  },
  {
   "cell_type": "code",
   "execution_count": 5,
   "id": "c1dfdbeb",
   "metadata": {},
   "outputs": [
    {
     "name": "stdout",
     "output_type": "stream",
     "text": [
      "name='sum_even_odd' description='\"This is a function that takes two integers and returns their sum if both are even or odd.' args_schema=<class 'langchain_core.utils.pydantic.sum_even_odd'> func=<function sum_even_odd at 0x7c8933be80e0>\n"
     ]
    }
   ],
   "source": [
    "print(sum_even_odd)"
   ]
  },
  {
   "cell_type": "code",
   "execution_count": 6,
   "id": "1711fba2",
   "metadata": {},
   "outputs": [
    {
     "name": "stdout",
     "output_type": "stream",
     "text": [
      "\"This is a function that takes two integers and returns their sum if both are even or odd.\n"
     ]
    }
   ],
   "source": [
    "print(sum_even_odd.description)"
   ]
  },
  {
   "cell_type": "code",
   "execution_count": 7,
   "id": "fbe01744",
   "metadata": {},
   "outputs": [
    {
     "name": "stdout",
     "output_type": "stream",
     "text": [
      "{'a': {'title': 'A', 'type': 'integer'}, 'b': {'title': 'B', 'type': 'integer'}}\n"
     ]
    }
   ],
   "source": [
    "print(sum_even_odd.args)"
   ]
  },
  {
   "cell_type": "code",
   "execution_count": 8,
   "id": "4063d302",
   "metadata": {},
   "outputs": [
    {
     "name": "stdout",
     "output_type": "stream",
     "text": [
      "Even\n"
     ]
    }
   ],
   "source": [
    "print(sum_even_odd.invoke({\n",
    "    \"a\": 10,\n",
    "    \"b\": 2\n",
    "}))"
   ]
  },
  {
   "cell_type": "markdown",
   "id": "58f984f4",
   "metadata": {},
   "source": [
    "### Build tool functionc alling LangChain OpenAI Python SDK"
   ]
  },
  {
   "cell_type": "code",
   "execution_count": 10,
   "id": "9e871c25",
   "metadata": {},
   "outputs": [],
   "source": [
    "from langchain_openai import ChatOpenAI\n",
    "from dotenv import load_dotenv\n",
    "import os\n",
    "load_dotenv()\n",
    "\n",
    "openai_api_key = os.getenv(\"OPENAI_API_KEY\")\n",
    "\n",
    "client = ChatOpenAI(\n",
    "    model=\"gpt-4o-mini-2024-07-18\",\n",
    "    api_key=openai_api_key,\n",
    ")"
   ]
  },
  {
   "cell_type": "code",
   "execution_count": 11,
   "id": "b3dd83bc",
   "metadata": {},
   "outputs": [],
   "source": [
    "client_with_tools = client.bind_tools([sum_even_odd])"
   ]
  },
  {
   "cell_type": "code",
   "execution_count": 13,
   "id": "0329dc8d",
   "metadata": {},
   "outputs": [
    {
     "name": "stdout",
     "output_type": "stream",
     "text": [
      "bound=ChatOpenAI(client=<openai.resources.chat.completions.completions.Completions object at 0x7c89317bb1d0>, async_client=<openai.resources.chat.completions.completions.AsyncCompletions object at 0x7c89317d1be0>, root_client=<openai.OpenAI object at 0x7c89318f49b0>, root_async_client=<openai.AsyncOpenAI object at 0x7c89317bb230>, model_name='gpt-4o-mini-2024-07-18', model_kwargs={}, openai_api_key=SecretStr('**********')) kwargs={'tools': [{'type': 'function', 'function': {'name': 'sum_even_odd', 'description': '\"This is a function that takes two integers and returns their sum if both are even or odd.', 'parameters': {'properties': {'a': {'type': 'integer'}, 'b': {'type': 'integer'}}, 'required': ['a', 'b'], 'type': 'object'}}}]} config={} config_factories=[]\n"
     ]
    }
   ],
   "source": [
    "print(client_with_tools)"
   ]
  },
  {
   "cell_type": "code",
   "execution_count": null,
   "id": "a98fdcde",
   "metadata": {},
   "outputs": [
    {
     "name": "stdout",
     "output_type": "stream",
     "text": [
      "content='The sum of four (4) and nine (9) is thirteen (13). Since both numbers are odd, the sum can be classified as an \"odd sum.\"' additional_kwargs={'refusal': None} response_metadata={'token_usage': {'completion_tokens': 36, 'prompt_tokens': 75, 'total_tokens': 111, 'completion_tokens_details': {'accepted_prediction_tokens': 0, 'audio_tokens': 0, 'reasoning_tokens': 0, 'rejected_prediction_tokens': 0}, 'prompt_tokens_details': {'audio_tokens': 0, 'cached_tokens': 0}}, 'model_name': 'gpt-4o-mini-2024-07-18', 'system_fingerprint': 'fp_0392822090', 'id': 'chatcmpl-BVByN4HxOTmCh8FeChXEPAacDYc1n', 'service_tier': 'default', 'finish_reason': 'stop', 'logprobs': None} id='run--cf66ea85-9850-42c7-8c6c-45fe89500f14-0' usage_metadata={'input_tokens': 75, 'output_tokens': 36, 'total_tokens': 111, 'input_token_details': {'audio': 0, 'cache_read': 0}, 'output_token_details': {'audio': 0, 'reasoning': 0}}\n"
     ]
    }
   ],
   "source": [
    "message = client_with_tools.invoke(\"What kind of sum is the sum of four and nine?\")\n",
    "print(messsage)"
   ]
  },
  {
   "cell_type": "code",
   "execution_count": null,
   "id": "20b2a92e",
   "metadata": {},
   "outputs": [],
   "source": []
  }
 ],
 "metadata": {
  "kernelspec": {
   "display_name": "pyenv",
   "language": "python",
   "name": "python3"
  },
  "language_info": {
   "codemirror_mode": {
    "name": "ipython",
    "version": 3
   },
   "file_extension": ".py",
   "mimetype": "text/x-python",
   "name": "python",
   "nbconvert_exporter": "python",
   "pygments_lexer": "ipython3",
   "version": "3.12.3"
  }
 },
 "nbformat": 4,
 "nbformat_minor": 5
}
